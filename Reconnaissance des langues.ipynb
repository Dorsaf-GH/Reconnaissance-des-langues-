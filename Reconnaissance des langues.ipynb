{
 "cells": [
  {
   "cell_type": "markdown",
   "metadata": {},
   "source": [
    "Cette première cellule vous présente la manière avec laquelle j'ai obtenu les features/caractéristiques à partir des jeux de données de \"textes\"\n",
    "Pour obtenir les textes (et les \"filtrer\") j'ai utiliser le script ./textDatasets/conversion.sh (qui prends, par exemple les fichiers FR_* les concatene, supprime les accents (en gardant les caracteres sans accents) et enfin transforme en minuscules).\n",
    "J'ai utilisé les livres \"open data\" de la base du site Guttenberg Project (qui archive énormément de livres en texte, \"txt\" simples\", tombés dans le domaine publique)."
   ]
  },
  {
   "cell_type": "code",
   "execution_count": 1,
   "metadata": {},
   "outputs": [],
   "source": [
    "import numpy as np\n",
    "import string\n",
    "BlockSz=100\n",
    "\n",
    "\n",
    "# On procede de la même façon pour les differents languages\n",
    "# Ouverture du fichier texte contenant les caracteres alphabetiques \"brutes\"\n",
    "textGERMAN = open('/Users/leott_000/Desktop/Cours 2020/UTT/Cours/ML avancé/textDatasets/textDatasets/GERMAN')\n",
    "# Lecture\n",
    "DE=textGERMAN.read()\n",
    "textGERMAN.close()\n",
    "# Calcule du nombre de blocks (arrondi par defaut) de BlockSz caracteres\n",
    "NbBlock=int(np.floor(len(DE)/BlockSz))\n",
    "# Creation des tableaux de donnees textuelles et de features\n",
    "DataDE=[]\n",
    "FeaDE =[]\n",
    "# Pour tous les indices de blocks ...\n",
    "for index in range(NbBlock):\n",
    "    # Exctraction des donnees texte du block\n",
    "    DataDE.append(DE[index*BlockSz:(index+1)*BlockSz])\n",
    "    # Comptage de chacun des caracteres\n",
    "    countDE=[]\n",
    "    for letter in string.ascii_lowercase:\n",
    "        countDE.append(DataDE[index].count(letter))\n",
    "    # Comptage de toutes les 26**2 paires de caracteres possibles\n",
    "    for letter1 in string.ascii_lowercase:\n",
    "        for letter2 in string.ascii_lowercase:\n",
    "            countDE.append(DataDE[index].count(letter1+letter2))\n",
    "    # Une fois le vecteur de décompte obtenu  .... on ajoute ce vecteur (contenant tous les decomptes) au tableaux des features\n",
    "    FeaDE.append(countDE)\n",
    "\n",
    "# On procede de la même façon pour les differents languages ....\n",
    "textFRENCH = open('/Users/leott_000/Desktop/Cours 2020/UTT/Cours/ML avancé/textDatasets/textDatasets/FRENCH')\n",
    "FR=textFRENCH.read()\n",
    "textFRENCH.close()\n",
    "NbBlock=int(np.floor(len(FR)/BlockSz))\n",
    "DataFR=[]\n",
    "FeaFR =[]\n",
    "for index in range(NbBlock):\n",
    "    DataFR.append(FR[index*BlockSz:(index+1)*BlockSz])\n",
    "    countFR=[]\n",
    "    for letter in string.ascii_lowercase:\n",
    "        countFR.append(DataFR[index].count(letter))\n",
    "    for letter1 in string.ascii_lowercase:\n",
    "        for letter2 in string.ascii_lowercase:\n",
    "            countFR.append(DataFR[index].count(letter1+letter2))\n",
    "    FeaFR.append(countFR)\n",
    "\n",
    "# On procede de la même façon pour les differents languages ....\n",
    "textSPANISH = open('/Users/leott_000/Desktop/Cours 2020/UTT/Cours/ML avancé/textDatasets/textDatasets/SPANISH')\n",
    "ES=textSPANISH.read()\n",
    "textSPANISH.close()\n",
    "NbBlock=int(np.floor(len(ES)/BlockSz))\n",
    "DataES=[]\n",
    "FeaES =[]\n",
    "for index in range(NbBlock):\n",
    "    DataES.append(ES[index*BlockSz:(index+1)*BlockSz])\n",
    "    countES=[]\n",
    "    for letter in string.ascii_lowercase:\n",
    "        countES.append(DataES[index].count(letter))\n",
    "    for letter1 in string.ascii_lowercase:\n",
    "        for letter2 in string.ascii_lowercase:\n",
    "            countES.append(DataES[index].count(letter1+letter2))\n",
    "    FeaES.append(countES)\n",
    "\n",
    "# On procede de la même façon pour les differents languages ....\n",
    "textENGLISH = open('/Users/leott_000/Desktop/Cours 2020/UTT/Cours/ML avancé/textDatasets/textDatasets/ENGLISH')\n",
    "EN=textENGLISH.read()\n",
    "textENGLISH.close()\n",
    "NbBlock=int(np.floor(len(EN)/BlockSz))\n",
    "DataEN=[]\n",
    "FeaEN =[]\n",
    "for index in range(NbBlock):\n",
    "    DataEN.append(EN[index*BlockSz:(index+1)*BlockSz])\n",
    "    countEN=[]\n",
    "    for letter in string.ascii_lowercase:\n",
    "        countEN.append(DataEN[index].count(letter))\n",
    "    for letter1 in string.ascii_lowercase:\n",
    "        for letter2 in string.ascii_lowercase:\n",
    "            countEN.append(DataEN[index].count(letter1+letter2))\n",
    "    FeaEN.append(countEN)"
   ]
  },
  {
   "cell_type": "code",
   "execution_count": 2,
   "metadata": {},
   "outputs": [],
   "source": [
    "# Ici on sauvegarde les caracteristiques, pour eviter de les recalculer à chaque fois ....\n",
    "np.save('/Users/leott_000/Desktop/Cours 2020/UTT/Cours/ML avancé/Project Tuan/FeaEN.npy', FeaEN)\n",
    "np.save('/Users/leott_000/Desktop/Cours 2020/UTT/Cours/ML avancé/Project Tuan/FeaFR.npy', FeaFR)\n",
    "np.save('/Users/leott_000/Desktop/Cours 2020/UTT/Cours/ML avancé/Project Tuan/FeaDE.npy', FeaDE)\n",
    "np.save('/Users/leott_000/Desktop/Cours 2020/UTT/Cours/ML avancé/Project Tuan/FeaES.npy', FeaES)"
   ]
  },
  {
   "cell_type": "code",
   "execution_count": 3,
   "metadata": {},
   "outputs": [],
   "source": [
    "# ... On peut simplement les loader (et commenter les cellules precedentes)\n",
    "FeaEN = np.load('/Users/leott_000/Desktop/Cours 2020/UTT/Cours/ML avancé/Project Tuan/FeaEN.npy')\n",
    "FeaFR = np.load('/Users/leott_000/Desktop/Cours 2020/UTT/Cours/ML avancé/Project Tuan/FeaFR.npy')\n",
    "FeaDE = np.load('/Users/leott_000/Desktop/Cours 2020/UTT/Cours/ML avancé/Project Tuan/FeaDE.npy')\n",
    "FeaES = np.load('/Users/leott_000/Desktop/Cours 2020/UTT/Cours/ML avancé/Project Tuan/FeaES.npy')"
   ]
  },
  {
   "cell_type": "code",
   "execution_count": 4,
   "metadata": {
    "scrolled": true
   },
   "outputs": [
    {
     "name": "stdout",
     "output_type": "stream",
     "text": [
      "(43292, 702)\n",
      "(41160, 702)\n",
      "(43218, 702)\n",
      "(42095, 702)\n"
     ]
    }
   ],
   "source": [
    "# Pour plus de \"facilier de manipulation\" on trasforme les donnes en \"matrice numpy\" et on affiche la dimension de la base de donnees.\n",
    "FeaDE = np.array(FeaDE)\n",
    "print(FeaDE.shape)\n",
    "\n",
    "FeaFR = np.array(FeaFR)\n",
    "print(FeaFR.shape)\n",
    "\n",
    "FeaES = np.array(FeaES)\n",
    "print(FeaES.shape)\n",
    "\n",
    "FeaEN = np.array(FeaEN)\n",
    "print(FeaEN.shape)"
   ]
  },
  {
   "cell_type": "code",
   "execution_count": 33,
   "metadata": {},
   "outputs": [],
   "source": [
    "from sklearn import linear_model\n",
    "from sklearn import model_selection\n",
    "from sklearn.linear_model import LinearRegression\n",
    "from sklearn.linear_model import Ridge\n",
    "from sklearn.linear_model import Lasso\n",
    "from sklearn.svm import SVR\n",
    "from sklearn.metrics import r2_score\n",
    "from sklearn.model_selection import train_test_split\n",
    "from sklearn.metrics import mean_squared_error\n",
    "from math import sqrt\n",
    "import pandas as pd\n",
    "import sklearn\n",
    "from sklearn.model_selection import GridSearchCV\n",
    "from sklearn import linear_model\n",
    "from sklearn.preprocessing import StandardScaler\n",
    "from sklearn.datasets import make_classification\n",
    "from sklearn.model_selection import cross_val_score\n",
    "from sklearn.metrics import confusion_matrix\n",
    "from sklearn.metrics import classification_report\n",
    "import time\n",
    "from sklearn import metrics\n",
    "from sklearn import svm\n",
    "\n"
   ]
  },
  {
   "cell_type": "markdown",
   "metadata": {},
   "source": [
    "## Questions:\n",
    "* 1) Réaliser une classification binaire en utilisant les méthodes linéaires suivantes: regression \"ridge\", LASSO et SVM (sans noyau !).\n",
    " * Pour ces méthodes vous devez faire une recherche du meilleur paramètre de régularisation ;\n",
    " * Vous devrez égalemement selectionner les deux languages de votre choix\n",
    " * Dans l'exemple fourni la taille des block de caractère extraits "
   ]
  },
  {
   "cell_type": "markdown",
   "metadata": {},
   "source": [
    "### Etape 1 - Préparation les données:\n",
    "Pour réaliser une classifcation binaire, nous utiliserons la langue Francais et la langue Allemagne. Le premier étape est de construire en dataset qui regroupe les deux langues. Ensuite, nous avons créé une variable expliqué y qui est 1 pour tous les texts en langues francais et -1 pour les textes en allemagne. Donc le dataset de deux langue francais et anglais contient 84 452 observations et 702 variables expliquatives et une variables à expliquer (y).\n",
    "\n",
    "Pour rappel, la taille de BlockSZ = 100\n"
   ]
  },
  {
   "cell_type": "code",
   "execution_count": 34,
   "metadata": {},
   "outputs": [],
   "source": [
    "#Créer le dataframe\n",
    "df_Fr = pd.DataFrame(FeaFR)\n",
    "df_Fr.head(10)\n",
    "df_De = pd.DataFrame(FeaDE)"
   ]
  },
  {
   "cell_type": "code",
   "execution_count": 35,
   "metadata": {
    "scrolled": true
   },
   "outputs": [],
   "source": [
    "#Créer le variable expliquée.\n",
    "df_Fr['y'] = 1\n",
    "#df_Fr.head(10)\n",
    "df_De['y'] = -1\n",
    "#df_De.head(10)"
   ]
  },
  {
   "cell_type": "code",
   "execution_count": 36,
   "metadata": {},
   "outputs": [],
   "source": [
    "df_Fr.reset_index(drop=True, inplace=True)\n",
    "df_De.reset_index(drop=True, inplace=True)"
   ]
  },
  {
   "cell_type": "code",
   "execution_count": 37,
   "metadata": {},
   "outputs": [
    {
     "name": "stdout",
     "output_type": "stream",
     "text": [
      "<class 'pandas.core.frame.DataFrame'>\n",
      "RangeIndex: 84452 entries, 0 to 84451\n",
      "Columns: 703 entries, 0 to y\n",
      "dtypes: int32(702), int64(1)\n",
      "memory usage: 226.8 MB\n"
     ]
    }
   ],
   "source": [
    "#Fusionner les deux dataframe\n",
    "df_final = pd.concat([df_Fr, df_De],axis= 0,sort=False)\n",
    "df_final.reset_index(drop=True, inplace=True)\n",
    "df_final.info()"
   ]
  },
  {
   "cell_type": "code",
   "execution_count": 38,
   "metadata": {},
   "outputs": [
    {
     "data": {
      "text/html": [
       "<div>\n",
       "<style scoped>\n",
       "    .dataframe tbody tr th:only-of-type {\n",
       "        vertical-align: middle;\n",
       "    }\n",
       "\n",
       "    .dataframe tbody tr th {\n",
       "        vertical-align: top;\n",
       "    }\n",
       "\n",
       "    .dataframe thead th {\n",
       "        text-align: right;\n",
       "    }\n",
       "</style>\n",
       "<table border=\"1\" class=\"dataframe\">\n",
       "  <thead>\n",
       "    <tr style=\"text-align: right;\">\n",
       "      <th></th>\n",
       "      <th>0</th>\n",
       "      <th>1</th>\n",
       "      <th>2</th>\n",
       "      <th>3</th>\n",
       "      <th>4</th>\n",
       "      <th>5</th>\n",
       "      <th>6</th>\n",
       "      <th>7</th>\n",
       "      <th>8</th>\n",
       "      <th>9</th>\n",
       "      <th>...</th>\n",
       "      <th>693</th>\n",
       "      <th>694</th>\n",
       "      <th>695</th>\n",
       "      <th>696</th>\n",
       "      <th>697</th>\n",
       "      <th>698</th>\n",
       "      <th>699</th>\n",
       "      <th>700</th>\n",
       "      <th>701</th>\n",
       "      <th>y</th>\n",
       "    </tr>\n",
       "  </thead>\n",
       "  <tbody>\n",
       "    <tr>\n",
       "      <th>7017</th>\n",
       "      <td>10</td>\n",
       "      <td>2</td>\n",
       "      <td>2</td>\n",
       "      <td>7</td>\n",
       "      <td>16</td>\n",
       "      <td>3</td>\n",
       "      <td>3</td>\n",
       "      <td>0</td>\n",
       "      <td>6</td>\n",
       "      <td>0</td>\n",
       "      <td>...</td>\n",
       "      <td>0</td>\n",
       "      <td>0</td>\n",
       "      <td>0</td>\n",
       "      <td>0</td>\n",
       "      <td>0</td>\n",
       "      <td>0</td>\n",
       "      <td>0</td>\n",
       "      <td>0</td>\n",
       "      <td>0</td>\n",
       "      <td>1</td>\n",
       "    </tr>\n",
       "    <tr>\n",
       "      <th>2229</th>\n",
       "      <td>7</td>\n",
       "      <td>0</td>\n",
       "      <td>2</td>\n",
       "      <td>2</td>\n",
       "      <td>21</td>\n",
       "      <td>0</td>\n",
       "      <td>1</td>\n",
       "      <td>0</td>\n",
       "      <td>7</td>\n",
       "      <td>0</td>\n",
       "      <td>...</td>\n",
       "      <td>0</td>\n",
       "      <td>0</td>\n",
       "      <td>0</td>\n",
       "      <td>0</td>\n",
       "      <td>0</td>\n",
       "      <td>0</td>\n",
       "      <td>0</td>\n",
       "      <td>0</td>\n",
       "      <td>0</td>\n",
       "      <td>1</td>\n",
       "    </tr>\n",
       "    <tr>\n",
       "      <th>60797</th>\n",
       "      <td>6</td>\n",
       "      <td>1</td>\n",
       "      <td>5</td>\n",
       "      <td>4</td>\n",
       "      <td>16</td>\n",
       "      <td>2</td>\n",
       "      <td>5</td>\n",
       "      <td>6</td>\n",
       "      <td>9</td>\n",
       "      <td>0</td>\n",
       "      <td>...</td>\n",
       "      <td>0</td>\n",
       "      <td>0</td>\n",
       "      <td>0</td>\n",
       "      <td>1</td>\n",
       "      <td>0</td>\n",
       "      <td>0</td>\n",
       "      <td>0</td>\n",
       "      <td>0</td>\n",
       "      <td>0</td>\n",
       "      <td>-1</td>\n",
       "    </tr>\n",
       "    <tr>\n",
       "      <th>38400</th>\n",
       "      <td>12</td>\n",
       "      <td>1</td>\n",
       "      <td>2</td>\n",
       "      <td>6</td>\n",
       "      <td>14</td>\n",
       "      <td>0</td>\n",
       "      <td>3</td>\n",
       "      <td>1</td>\n",
       "      <td>10</td>\n",
       "      <td>0</td>\n",
       "      <td>...</td>\n",
       "      <td>0</td>\n",
       "      <td>0</td>\n",
       "      <td>0</td>\n",
       "      <td>0</td>\n",
       "      <td>0</td>\n",
       "      <td>0</td>\n",
       "      <td>0</td>\n",
       "      <td>0</td>\n",
       "      <td>0</td>\n",
       "      <td>1</td>\n",
       "    </tr>\n",
       "    <tr>\n",
       "      <th>67600</th>\n",
       "      <td>5</td>\n",
       "      <td>2</td>\n",
       "      <td>6</td>\n",
       "      <td>6</td>\n",
       "      <td>17</td>\n",
       "      <td>1</td>\n",
       "      <td>0</td>\n",
       "      <td>5</td>\n",
       "      <td>8</td>\n",
       "      <td>1</td>\n",
       "      <td>...</td>\n",
       "      <td>0</td>\n",
       "      <td>0</td>\n",
       "      <td>0</td>\n",
       "      <td>0</td>\n",
       "      <td>0</td>\n",
       "      <td>0</td>\n",
       "      <td>0</td>\n",
       "      <td>0</td>\n",
       "      <td>0</td>\n",
       "      <td>-1</td>\n",
       "    </tr>\n",
       "  </tbody>\n",
       "</table>\n",
       "<p>5 rows × 703 columns</p>\n",
       "</div>"
      ],
      "text/plain": [
       "        0  1  2  3   4  5  6  7   8  9  ...  693  694  695  696  697  698  \\\n",
       "7017   10  2  2  7  16  3  3  0   6  0  ...    0    0    0    0    0    0   \n",
       "2229    7  0  2  2  21  0  1  0   7  0  ...    0    0    0    0    0    0   \n",
       "60797   6  1  5  4  16  2  5  6   9  0  ...    0    0    0    1    0    0   \n",
       "38400  12  1  2  6  14  0  3  1  10  0  ...    0    0    0    0    0    0   \n",
       "67600   5  2  6  6  17  1  0  5   8  1  ...    0    0    0    0    0    0   \n",
       "\n",
       "       699  700  701  y  \n",
       "7017     0    0    0  1  \n",
       "2229     0    0    0  1  \n",
       "60797    0    0    0 -1  \n",
       "38400    0    0    0  1  \n",
       "67600    0    0    0 -1  \n",
       "\n",
       "[5 rows x 703 columns]"
      ]
     },
     "execution_count": 38,
     "metadata": {},
     "output_type": "execute_result"
    }
   ],
   "source": [
    "#Mélanger les données dans la base de données\n",
    "df_final1 = df_final.sample(frac = 0.7)\n",
    "df_final1.head(5)"
   ]
  },
  {
   "cell_type": "code",
   "execution_count": 39,
   "metadata": {},
   "outputs": [],
   "source": [
    "#Définir les variables expliquatives (X)\n",
    "features = df_final1.iloc[:, 0:702]\n",
    "features.reset_index(drop= True, inplace=True)"
   ]
  },
  {
   "cell_type": "code",
   "execution_count": 40,
   "metadata": {},
   "outputs": [
    {
     "data": {
      "text/html": [
       "<div>\n",
       "<style scoped>\n",
       "    .dataframe tbody tr th:only-of-type {\n",
       "        vertical-align: middle;\n",
       "    }\n",
       "\n",
       "    .dataframe tbody tr th {\n",
       "        vertical-align: top;\n",
       "    }\n",
       "\n",
       "    .dataframe thead th {\n",
       "        text-align: right;\n",
       "    }\n",
       "</style>\n",
       "<table border=\"1\" class=\"dataframe\">\n",
       "  <thead>\n",
       "    <tr style=\"text-align: right;\">\n",
       "      <th></th>\n",
       "      <th>0</th>\n",
       "      <th>1</th>\n",
       "      <th>2</th>\n",
       "      <th>3</th>\n",
       "      <th>4</th>\n",
       "      <th>5</th>\n",
       "      <th>6</th>\n",
       "      <th>7</th>\n",
       "      <th>8</th>\n",
       "      <th>9</th>\n",
       "      <th>...</th>\n",
       "      <th>692</th>\n",
       "      <th>693</th>\n",
       "      <th>694</th>\n",
       "      <th>695</th>\n",
       "      <th>696</th>\n",
       "      <th>697</th>\n",
       "      <th>698</th>\n",
       "      <th>699</th>\n",
       "      <th>700</th>\n",
       "      <th>701</th>\n",
       "    </tr>\n",
       "  </thead>\n",
       "  <tbody>\n",
       "    <tr>\n",
       "      <th>0</th>\n",
       "      <td>10</td>\n",
       "      <td>2</td>\n",
       "      <td>2</td>\n",
       "      <td>7</td>\n",
       "      <td>16</td>\n",
       "      <td>3</td>\n",
       "      <td>3</td>\n",
       "      <td>0</td>\n",
       "      <td>6</td>\n",
       "      <td>0</td>\n",
       "      <td>...</td>\n",
       "      <td>0</td>\n",
       "      <td>0</td>\n",
       "      <td>0</td>\n",
       "      <td>0</td>\n",
       "      <td>0</td>\n",
       "      <td>0</td>\n",
       "      <td>0</td>\n",
       "      <td>0</td>\n",
       "      <td>0</td>\n",
       "      <td>0</td>\n",
       "    </tr>\n",
       "    <tr>\n",
       "      <th>1</th>\n",
       "      <td>7</td>\n",
       "      <td>0</td>\n",
       "      <td>2</td>\n",
       "      <td>2</td>\n",
       "      <td>21</td>\n",
       "      <td>0</td>\n",
       "      <td>1</td>\n",
       "      <td>0</td>\n",
       "      <td>7</td>\n",
       "      <td>0</td>\n",
       "      <td>...</td>\n",
       "      <td>0</td>\n",
       "      <td>0</td>\n",
       "      <td>0</td>\n",
       "      <td>0</td>\n",
       "      <td>0</td>\n",
       "      <td>0</td>\n",
       "      <td>0</td>\n",
       "      <td>0</td>\n",
       "      <td>0</td>\n",
       "      <td>0</td>\n",
       "    </tr>\n",
       "    <tr>\n",
       "      <th>2</th>\n",
       "      <td>6</td>\n",
       "      <td>1</td>\n",
       "      <td>5</td>\n",
       "      <td>4</td>\n",
       "      <td>16</td>\n",
       "      <td>2</td>\n",
       "      <td>5</td>\n",
       "      <td>6</td>\n",
       "      <td>9</td>\n",
       "      <td>0</td>\n",
       "      <td>...</td>\n",
       "      <td>0</td>\n",
       "      <td>0</td>\n",
       "      <td>0</td>\n",
       "      <td>0</td>\n",
       "      <td>1</td>\n",
       "      <td>0</td>\n",
       "      <td>0</td>\n",
       "      <td>0</td>\n",
       "      <td>0</td>\n",
       "      <td>0</td>\n",
       "    </tr>\n",
       "    <tr>\n",
       "      <th>3</th>\n",
       "      <td>12</td>\n",
       "      <td>1</td>\n",
       "      <td>2</td>\n",
       "      <td>6</td>\n",
       "      <td>14</td>\n",
       "      <td>0</td>\n",
       "      <td>3</td>\n",
       "      <td>1</td>\n",
       "      <td>10</td>\n",
       "      <td>0</td>\n",
       "      <td>...</td>\n",
       "      <td>0</td>\n",
       "      <td>0</td>\n",
       "      <td>0</td>\n",
       "      <td>0</td>\n",
       "      <td>0</td>\n",
       "      <td>0</td>\n",
       "      <td>0</td>\n",
       "      <td>0</td>\n",
       "      <td>0</td>\n",
       "      <td>0</td>\n",
       "    </tr>\n",
       "    <tr>\n",
       "      <th>4</th>\n",
       "      <td>5</td>\n",
       "      <td>2</td>\n",
       "      <td>6</td>\n",
       "      <td>6</td>\n",
       "      <td>17</td>\n",
       "      <td>1</td>\n",
       "      <td>0</td>\n",
       "      <td>5</td>\n",
       "      <td>8</td>\n",
       "      <td>1</td>\n",
       "      <td>...</td>\n",
       "      <td>0</td>\n",
       "      <td>0</td>\n",
       "      <td>0</td>\n",
       "      <td>0</td>\n",
       "      <td>0</td>\n",
       "      <td>0</td>\n",
       "      <td>0</td>\n",
       "      <td>0</td>\n",
       "      <td>0</td>\n",
       "      <td>0</td>\n",
       "    </tr>\n",
       "  </tbody>\n",
       "</table>\n",
       "<p>5 rows × 702 columns</p>\n",
       "</div>"
      ],
      "text/plain": [
       "   0    1    2    3    4    5    6    7    8    9    ...  692  693  694  695  \\\n",
       "0   10    2    2    7   16    3    3    0    6    0  ...    0    0    0    0   \n",
       "1    7    0    2    2   21    0    1    0    7    0  ...    0    0    0    0   \n",
       "2    6    1    5    4   16    2    5    6    9    0  ...    0    0    0    0   \n",
       "3   12    1    2    6   14    0    3    1   10    0  ...    0    0    0    0   \n",
       "4    5    2    6    6   17    1    0    5    8    1  ...    0    0    0    0   \n",
       "\n",
       "   696  697  698  699  700  701  \n",
       "0    0    0    0    0    0    0  \n",
       "1    0    0    0    0    0    0  \n",
       "2    1    0    0    0    0    0  \n",
       "3    0    0    0    0    0    0  \n",
       "4    0    0    0    0    0    0  \n",
       "\n",
       "[5 rows x 702 columns]"
      ]
     },
     "execution_count": 40,
     "metadata": {},
     "output_type": "execute_result"
    }
   ],
   "source": [
    "features.head(5)"
   ]
  },
  {
   "cell_type": "code",
   "execution_count": 41,
   "metadata": {},
   "outputs": [],
   "source": [
    "#Renommer la variable y comme la variable target!  \n",
    "target = df_final1['y']\n",
    "target.reset_index(drop=True, inplace=True)\n"
   ]
  },
  {
   "cell_type": "markdown",
   "metadata": {},
   "source": [
    "### Créer les modèles pour la classification:\n",
    "Dans cette étape, nous construisons 3 modèles différents:\n",
    " - Régressions Ridge, Lasso, SVM sans noyau\n",
    " - Pour chaque modèle, par exemple pour la régression Ridge, nous commencons par une modèle de base (les hyperparametres sont fixé par défaut) ensuite pour trouver les meilleurs parametres, la fonction GridsearchSV automatise la recherche d'un optimum parmi les hyper-paramèrtres, elle utilise notament la validation croisée.\n",
    " - Et à la fin, nous construisons le modèle classification avec les meilleurs paramètres retrouvé par la fonction GridSearchCv.\n",
    " \n",
    " "
   ]
  },
  {
   "cell_type": "code",
   "execution_count": 43,
   "metadata": {},
   "outputs": [],
   "source": [
    "# Créer les traint, test datasets \n",
    "from sklearn.model_selection import train_test_split\n",
    "# créer un nouveau train, test avec un taux de 30% \n",
    "X_train, X_test, y_train, y_test = train_test_split(features, target,test_size = .30, random_state = 0)"
   ]
  },
  {
   "cell_type": "code",
   "execution_count": 44,
   "metadata": {},
   "outputs": [
    {
     "data": {
      "text/plain": [
       "0.9542825285125471"
      ]
     },
     "execution_count": 44,
     "metadata": {},
     "output_type": "execute_result"
    }
   ],
   "source": [
    "# Construire le modèle Ridge avec les parametres au défault\n",
    "import time\n",
    "start_time = time.time()\n",
    "#X_train_scaled = StandardScaler().fit_transform(X_train)\n",
    "clf_1 = linear_model.Ridge()\n",
    "clf_1.fit(X_train, y_train)\n",
    "clf_1.score(X_train, y_train)"
   ]
  },
  {
   "cell_type": "markdown",
   "metadata": {},
   "source": [
    "Ici, le score(X_train, y_train) = 95% mesure la précision du modèle pour les données d'entraînement  \n"
   ]
  },
  {
   "cell_type": "code",
   "execution_count": 45,
   "metadata": {},
   "outputs": [
    {
     "data": {
      "text/plain": [
       "0.9511632494276174"
      ]
     },
     "execution_count": 45,
     "metadata": {},
     "output_type": "execute_result"
    }
   ],
   "source": [
    "clf_1.score(X_test, y_test)"
   ]
  },
  {
   "cell_type": "code",
   "execution_count": 131,
   "metadata": {
    "scrolled": true
   },
   "outputs": [
    {
     "name": "stdout",
     "output_type": "stream",
     "text": [
      "Fitting 10 folds for each of 7 candidates, totalling 70 fits\n",
      "\n",
      "--- 33.407318353652954 seconds ---\n"
     ]
    }
   ],
   "source": [
    "#Cross-validation avec GridSearchcv\n",
    "\n",
    "import time\n",
    "start_time = time.time()\n",
    "\n",
    "#sklearn.metrics.SCORERS.keys()\n",
    "params={'alpha': [0.01, 0.1, 0.2, 0.3, 0.5, 1, 10]}\n",
    "model = linear_model.Ridge()\n",
    "clf_ridge = GridSearchCV(model, params,cv=10,verbose = 2,n_jobs=-1, scoring = 'r2')\n",
    "clf_ridge.fit(X_train,y_train)\n",
    "\n",
    "print(\"\\n--- %s seconds ---\" % (time.time() - start_time))"
   ]
  },
  {
   "cell_type": "markdown",
   "metadata": {},
   "source": [
    "Avec la fonction gridsearch, le base train est divisé en 10 parties  pour faire la validation croisée. Il s'entraine sur n-1 (9) parties et tester une dernières parties. Pour chaque valeur pour les hyper parametres, l'algorithme sera réentrainé pour n fois pour avoir la performance de chaques parties. Ensuite, il calcul la perfomance en moyen pour tous les parties et c'est la performances obtenue à la fin pour cette valeur hyper-parametres. Ici, on trouve que avec alpha = 10, on a un meilleur hyper-paramètre."
   ]
  },
  {
   "cell_type": "code",
   "execution_count": 47,
   "metadata": {},
   "outputs": [
    {
     "name": "stdout",
     "output_type": "stream",
     "text": [
      "{'alpha': 10}\n"
     ]
    },
    {
     "data": {
      "text/html": [
       "<div>\n",
       "<style scoped>\n",
       "    .dataframe tbody tr th:only-of-type {\n",
       "        vertical-align: middle;\n",
       "    }\n",
       "\n",
       "    .dataframe tbody tr th {\n",
       "        vertical-align: top;\n",
       "    }\n",
       "\n",
       "    .dataframe thead th {\n",
       "        text-align: right;\n",
       "    }\n",
       "</style>\n",
       "<table border=\"1\" class=\"dataframe\">\n",
       "  <thead>\n",
       "    <tr style=\"text-align: right;\">\n",
       "      <th></th>\n",
       "      <th>mean_fit_time</th>\n",
       "      <th>std_fit_time</th>\n",
       "      <th>mean_score_time</th>\n",
       "      <th>std_score_time</th>\n",
       "      <th>param_alpha</th>\n",
       "      <th>params</th>\n",
       "      <th>split0_test_score</th>\n",
       "      <th>split1_test_score</th>\n",
       "      <th>split2_test_score</th>\n",
       "      <th>split3_test_score</th>\n",
       "      <th>split4_test_score</th>\n",
       "      <th>split5_test_score</th>\n",
       "      <th>split6_test_score</th>\n",
       "      <th>split7_test_score</th>\n",
       "      <th>split8_test_score</th>\n",
       "      <th>split9_test_score</th>\n",
       "      <th>mean_test_score</th>\n",
       "      <th>std_test_score</th>\n",
       "      <th>rank_test_score</th>\n",
       "    </tr>\n",
       "  </thead>\n",
       "  <tbody>\n",
       "    <tr>\n",
       "      <th>0</th>\n",
       "      <td>9.180282</td>\n",
       "      <td>2.629668</td>\n",
       "      <td>0.123386</td>\n",
       "      <td>0.037059</td>\n",
       "      <td>0.01</td>\n",
       "      <td>{'alpha': 0.01}</td>\n",
       "      <td>0.951739</td>\n",
       "      <td>0.948811</td>\n",
       "      <td>0.953303</td>\n",
       "      <td>0.950105</td>\n",
       "      <td>0.947550</td>\n",
       "      <td>0.953219</td>\n",
       "      <td>0.953458</td>\n",
       "      <td>0.954107</td>\n",
       "      <td>0.958232</td>\n",
       "      <td>0.951246</td>\n",
       "      <td>0.952177</td>\n",
       "      <td>0.002872</td>\n",
       "      <td>7</td>\n",
       "    </tr>\n",
       "    <tr>\n",
       "      <th>1</th>\n",
       "      <td>3.561515</td>\n",
       "      <td>0.509194</td>\n",
       "      <td>0.054138</td>\n",
       "      <td>0.016051</td>\n",
       "      <td>0.10</td>\n",
       "      <td>{'alpha': 0.1}</td>\n",
       "      <td>0.951751</td>\n",
       "      <td>0.948835</td>\n",
       "      <td>0.953335</td>\n",
       "      <td>0.950121</td>\n",
       "      <td>0.947565</td>\n",
       "      <td>0.953288</td>\n",
       "      <td>0.953466</td>\n",
       "      <td>0.954125</td>\n",
       "      <td>0.958233</td>\n",
       "      <td>0.951251</td>\n",
       "      <td>0.952197</td>\n",
       "      <td>0.002871</td>\n",
       "      <td>6</td>\n",
       "    </tr>\n",
       "    <tr>\n",
       "      <th>2</th>\n",
       "      <td>2.976949</td>\n",
       "      <td>0.068910</td>\n",
       "      <td>0.061894</td>\n",
       "      <td>0.013450</td>\n",
       "      <td>0.20</td>\n",
       "      <td>{'alpha': 0.2}</td>\n",
       "      <td>0.951762</td>\n",
       "      <td>0.948855</td>\n",
       "      <td>0.953364</td>\n",
       "      <td>0.950137</td>\n",
       "      <td>0.947579</td>\n",
       "      <td>0.953340</td>\n",
       "      <td>0.953473</td>\n",
       "      <td>0.954142</td>\n",
       "      <td>0.958235</td>\n",
       "      <td>0.951256</td>\n",
       "      <td>0.952214</td>\n",
       "      <td>0.002869</td>\n",
       "      <td>5</td>\n",
       "    </tr>\n",
       "    <tr>\n",
       "      <th>3</th>\n",
       "      <td>2.891991</td>\n",
       "      <td>0.067256</td>\n",
       "      <td>0.053237</td>\n",
       "      <td>0.008742</td>\n",
       "      <td>0.30</td>\n",
       "      <td>{'alpha': 0.3}</td>\n",
       "      <td>0.951772</td>\n",
       "      <td>0.948872</td>\n",
       "      <td>0.953389</td>\n",
       "      <td>0.950152</td>\n",
       "      <td>0.947592</td>\n",
       "      <td>0.953377</td>\n",
       "      <td>0.953479</td>\n",
       "      <td>0.954157</td>\n",
       "      <td>0.958237</td>\n",
       "      <td>0.951261</td>\n",
       "      <td>0.952229</td>\n",
       "      <td>0.002868</td>\n",
       "      <td>4</td>\n",
       "    </tr>\n",
       "    <tr>\n",
       "      <th>4</th>\n",
       "      <td>2.832748</td>\n",
       "      <td>0.168427</td>\n",
       "      <td>0.054988</td>\n",
       "      <td>0.006109</td>\n",
       "      <td>0.50</td>\n",
       "      <td>{'alpha': 0.5}</td>\n",
       "      <td>0.951788</td>\n",
       "      <td>0.948897</td>\n",
       "      <td>0.953429</td>\n",
       "      <td>0.950180</td>\n",
       "      <td>0.947613</td>\n",
       "      <td>0.953426</td>\n",
       "      <td>0.953490</td>\n",
       "      <td>0.954183</td>\n",
       "      <td>0.958241</td>\n",
       "      <td>0.951270</td>\n",
       "      <td>0.952252</td>\n",
       "      <td>0.002866</td>\n",
       "      <td>3</td>\n",
       "    </tr>\n",
       "    <tr>\n",
       "      <th>5</th>\n",
       "      <td>3.018079</td>\n",
       "      <td>0.277455</td>\n",
       "      <td>0.056991</td>\n",
       "      <td>0.006236</td>\n",
       "      <td>1</td>\n",
       "      <td>{'alpha': 1}</td>\n",
       "      <td>0.951815</td>\n",
       "      <td>0.948935</td>\n",
       "      <td>0.953496</td>\n",
       "      <td>0.950235</td>\n",
       "      <td>0.947651</td>\n",
       "      <td>0.953492</td>\n",
       "      <td>0.953511</td>\n",
       "      <td>0.954230</td>\n",
       "      <td>0.958252</td>\n",
       "      <td>0.951288</td>\n",
       "      <td>0.952291</td>\n",
       "      <td>0.002862</td>\n",
       "      <td>2</td>\n",
       "    </tr>\n",
       "    <tr>\n",
       "      <th>6</th>\n",
       "      <td>2.619546</td>\n",
       "      <td>0.166297</td>\n",
       "      <td>0.045182</td>\n",
       "      <td>0.012129</td>\n",
       "      <td>10</td>\n",
       "      <td>{'alpha': 10}</td>\n",
       "      <td>0.951909</td>\n",
       "      <td>0.949070</td>\n",
       "      <td>0.953630</td>\n",
       "      <td>0.950537</td>\n",
       "      <td>0.947825</td>\n",
       "      <td>0.953746</td>\n",
       "      <td>0.953633</td>\n",
       "      <td>0.954426</td>\n",
       "      <td>0.958364</td>\n",
       "      <td>0.951442</td>\n",
       "      <td>0.952458</td>\n",
       "      <td>0.002848</td>\n",
       "      <td>1</td>\n",
       "    </tr>\n",
       "  </tbody>\n",
       "</table>\n",
       "</div>"
      ],
      "text/plain": [
       "   mean_fit_time  std_fit_time  mean_score_time  std_score_time param_alpha  \\\n",
       "0       9.180282      2.629668         0.123386        0.037059        0.01   \n",
       "1       3.561515      0.509194         0.054138        0.016051        0.10   \n",
       "2       2.976949      0.068910         0.061894        0.013450        0.20   \n",
       "3       2.891991      0.067256         0.053237        0.008742        0.30   \n",
       "4       2.832748      0.168427         0.054988        0.006109        0.50   \n",
       "5       3.018079      0.277455         0.056991        0.006236           1   \n",
       "6       2.619546      0.166297         0.045182        0.012129          10   \n",
       "\n",
       "            params  split0_test_score  split1_test_score  split2_test_score  \\\n",
       "0  {'alpha': 0.01}           0.951739           0.948811           0.953303   \n",
       "1   {'alpha': 0.1}           0.951751           0.948835           0.953335   \n",
       "2   {'alpha': 0.2}           0.951762           0.948855           0.953364   \n",
       "3   {'alpha': 0.3}           0.951772           0.948872           0.953389   \n",
       "4   {'alpha': 0.5}           0.951788           0.948897           0.953429   \n",
       "5     {'alpha': 1}           0.951815           0.948935           0.953496   \n",
       "6    {'alpha': 10}           0.951909           0.949070           0.953630   \n",
       "\n",
       "   split3_test_score  split4_test_score  split5_test_score  split6_test_score  \\\n",
       "0           0.950105           0.947550           0.953219           0.953458   \n",
       "1           0.950121           0.947565           0.953288           0.953466   \n",
       "2           0.950137           0.947579           0.953340           0.953473   \n",
       "3           0.950152           0.947592           0.953377           0.953479   \n",
       "4           0.950180           0.947613           0.953426           0.953490   \n",
       "5           0.950235           0.947651           0.953492           0.953511   \n",
       "6           0.950537           0.947825           0.953746           0.953633   \n",
       "\n",
       "   split7_test_score  split8_test_score  split9_test_score  mean_test_score  \\\n",
       "0           0.954107           0.958232           0.951246         0.952177   \n",
       "1           0.954125           0.958233           0.951251         0.952197   \n",
       "2           0.954142           0.958235           0.951256         0.952214   \n",
       "3           0.954157           0.958237           0.951261         0.952229   \n",
       "4           0.954183           0.958241           0.951270         0.952252   \n",
       "5           0.954230           0.958252           0.951288         0.952291   \n",
       "6           0.954426           0.958364           0.951442         0.952458   \n",
       "\n",
       "   std_test_score  rank_test_score  \n",
       "0        0.002872                7  \n",
       "1        0.002871                6  \n",
       "2        0.002869                5  \n",
       "3        0.002868                4  \n",
       "4        0.002866                3  \n",
       "5        0.002862                2  \n",
       "6        0.002848                1  "
      ]
     },
     "execution_count": 47,
     "metadata": {},
     "output_type": "execute_result"
    }
   ],
   "source": [
    "print(clf_ridge.best_params_)\n",
    "pd.DataFrame(clf_ridge.cv_results_)\n"
   ]
  },
  {
   "cell_type": "code",
   "execution_count": 132,
   "metadata": {},
   "outputs": [
    {
     "data": {
      "text/plain": [
       "0.9541883641710215"
      ]
     },
     "execution_count": 132,
     "metadata": {},
     "output_type": "execute_result"
    }
   ],
   "source": [
    "#Construire le meilleur modèle (avec alpha = 10)\n",
    "OptRidge_model = clf_ridge.best_estimator_\n",
    "OptRidge_model.fit(X_train,y_train)\n",
    "OptRidge_model.score(X_train,y_train)"
   ]
  },
  {
   "cell_type": "code",
   "execution_count": 133,
   "metadata": {},
   "outputs": [
    {
     "data": {
      "text/plain": [
       "0.9512865984237674"
      ]
     },
     "execution_count": 133,
     "metadata": {},
     "output_type": "execute_result"
    }
   ],
   "source": [
    "OptRidge_model.score(X_test,y_test)"
   ]
  },
  {
   "cell_type": "code",
   "execution_count": 134,
   "metadata": {},
   "outputs": [],
   "source": [
    "y_predict_1 = OptRidge_model.predict(X_test)"
   ]
  },
  {
   "cell_type": "code",
   "execution_count": 135,
   "metadata": {},
   "outputs": [],
   "source": [
    "#transformer les outcomes (y_predict_1) en binaire\n",
    "for i in range(len(y_predict_1)):\n",
    "    if(y_predict_1[i]>0):\n",
    "        y_predict_1[i] = 1\n",
    "    else:\n",
    "        y_predict_1[i] = -1"
   ]
  },
  {
   "cell_type": "code",
   "execution_count": 52,
   "metadata": {},
   "outputs": [
    {
     "name": "stdout",
     "output_type": "stream",
     "text": [
      "[[8997   64]\n",
      " [   1 8673]]\n"
     ]
    }
   ],
   "source": [
    "cm = confusion_matrix(y_test, y_predict_1)\n",
    "print(cm)"
   ]
  },
  {
   "cell_type": "markdown",
   "metadata": {},
   "source": [
    "Ensuite pour faire une classification avec la régression Ridge, on regroupé tous les valeurs qui sont au moins ou égale 0 dans une class (-1) et l'autres données qui sont plus de 0 dans une autre class (1). Avec la matrice de confusion, on trouve qu'il y a 8997 données qui ont trouvé en vrai positif c'est à dire ce sont des données placé ou le modèle prédit correctement la class positive. De l'autre facon, il y a 8673 données sont placé en vrai négatif qui signifie que la prédiction est correct mais la classe est négative. "
   ]
  },
  {
   "cell_type": "code",
   "execution_count": 53,
   "metadata": {},
   "outputs": [
    {
     "name": "stdout",
     "output_type": "stream",
     "text": [
      "              precision    recall  f1-score   support\n",
      "\n",
      "          -1       1.00      0.99      1.00      9061\n",
      "           1       0.99      1.00      1.00      8674\n",
      "\n",
      "    accuracy                           1.00     17735\n",
      "   macro avg       1.00      1.00      1.00     17735\n",
      "weighted avg       1.00      1.00      1.00     17735\n",
      "\n"
     ]
    }
   ],
   "source": [
    "cl = classification_report(y_test, y_predict_1)\n",
    "print(cl)"
   ]
  },
  {
   "cell_type": "markdown",
   "metadata": {},
   "source": [
    "### Modèle Lasso\n",
    "\n",
    "Le model lasso et le modele Ridge sont les deux méthode pour la régularization. Ils sont utilisé dans ce projet car nous avons une base de données avec beaucoup de dimension (703 colums). La différence du modèle Lasso avec le Ridge est que le Lasso utilise la L1 penalties (L2 pour Ridge). Les étapes pour trouver le meilleur parametres et le meilleur modèle est la même avec le modèle Ridge comme on a fait au dessus."
   ]
  },
  {
   "cell_type": "code",
   "execution_count": 103,
   "metadata": {},
   "outputs": [
    {
     "name": "stdout",
     "output_type": "stream",
     "text": [
      "\n",
      "--- 3.6205480098724365 seconds ---\n"
     ]
    }
   ],
   "source": [
    "#Modele Lasso avec parametre automatisé (au défault)\n",
    "import time\n",
    "start_time = time.time()\n",
    "\n",
    "clf_2 = linear_model.Lasso()\n",
    "clf_2.fit(X_train, y_train)\n",
    "#Temps de calcul\n",
    "print(\"\\n--- %s seconds ---\" % (time.time() - start_time))"
   ]
  },
  {
   "cell_type": "code",
   "execution_count": 104,
   "metadata": {},
   "outputs": [
    {
     "data": {
      "text/plain": [
       "0.5159838742213312"
      ]
     },
     "execution_count": 104,
     "metadata": {},
     "output_type": "execute_result"
    }
   ],
   "source": [
    "clf_2.score(X_train, y_train)"
   ]
  },
  {
   "cell_type": "code",
   "execution_count": 105,
   "metadata": {},
   "outputs": [
    {
     "data": {
      "text/plain": [
       "0.5130326805250452"
      ]
     },
     "execution_count": 105,
     "metadata": {},
     "output_type": "execute_result"
    }
   ],
   "source": [
    "clf_2.score(X_test, y_test)"
   ]
  },
  {
   "cell_type": "markdown",
   "metadata": {},
   "source": [
    "On voit ici que, avec le parametre choisir par défaut, la prédiction du modèle Lasso est beaucoup moins par rapport le modèle Ridge. Donc, pour optimiser la perfomance du modele Lasso on utilise la cross validation avec GridSearCv pour trouver le meilleur modèle et le meilleur hyper parametre."
   ]
  },
  {
   "cell_type": "code",
   "execution_count": 106,
   "metadata": {},
   "outputs": [
    {
     "name": "stdout",
     "output_type": "stream",
     "text": [
      "Fitting 10 folds for each of 7 candidates, totalling 70 fits\n",
      "\n",
      "--- 74.98473238945007 seconds ---\n"
     ]
    }
   ],
   "source": [
    "#Cross Validation avec GridSearchCV\n",
    "start_time = time.time()\n",
    "\n",
    "\n",
    "#sklearn.metrics.SCORERS.keys()\n",
    "params={'alpha': [0.01, 0.1, 0.2, 0.3, 0.5, 1, 10]}\n",
    "model = linear_model.Lasso()\n",
    "clf = GridSearchCV(model, params,cv=10,verbose = 1, scoring = 'r2',n_jobs=-1)\n",
    "clf.fit(X_train,y_train)\n",
    "clf.score(X_train,y_train)\n",
    "\n",
    "#Calculer le temps pour la prédiction du modèle\n",
    "print(\"\\n--- %s seconds ---\" % (time.time() - start_time))"
   ]
  },
  {
   "cell_type": "code",
   "execution_count": 58,
   "metadata": {},
   "outputs": [
    {
     "name": "stdout",
     "output_type": "stream",
     "text": [
      "{'alpha': 0.01}\n"
     ]
    },
    {
     "data": {
      "text/html": [
       "<div>\n",
       "<style scoped>\n",
       "    .dataframe tbody tr th:only-of-type {\n",
       "        vertical-align: middle;\n",
       "    }\n",
       "\n",
       "    .dataframe tbody tr th {\n",
       "        vertical-align: top;\n",
       "    }\n",
       "\n",
       "    .dataframe thead th {\n",
       "        text-align: right;\n",
       "    }\n",
       "</style>\n",
       "<table border=\"1\" class=\"dataframe\">\n",
       "  <thead>\n",
       "    <tr style=\"text-align: right;\">\n",
       "      <th></th>\n",
       "      <th>mean_fit_time</th>\n",
       "      <th>std_fit_time</th>\n",
       "      <th>mean_score_time</th>\n",
       "      <th>std_score_time</th>\n",
       "      <th>param_alpha</th>\n",
       "      <th>params</th>\n",
       "      <th>split0_test_score</th>\n",
       "      <th>split1_test_score</th>\n",
       "      <th>split2_test_score</th>\n",
       "      <th>split3_test_score</th>\n",
       "      <th>split4_test_score</th>\n",
       "      <th>split5_test_score</th>\n",
       "      <th>split6_test_score</th>\n",
       "      <th>split7_test_score</th>\n",
       "      <th>split8_test_score</th>\n",
       "      <th>split9_test_score</th>\n",
       "      <th>mean_test_score</th>\n",
       "      <th>std_test_score</th>\n",
       "      <th>rank_test_score</th>\n",
       "    </tr>\n",
       "  </thead>\n",
       "  <tbody>\n",
       "    <tr>\n",
       "      <th>0</th>\n",
       "      <td>14.959550</td>\n",
       "      <td>1.117113</td>\n",
       "      <td>0.061293</td>\n",
       "      <td>0.015104</td>\n",
       "      <td>0.01</td>\n",
       "      <td>{'alpha': 0.01}</td>\n",
       "      <td>0.939318</td>\n",
       "      <td>0.935599</td>\n",
       "      <td>0.940102</td>\n",
       "      <td>0.935356</td>\n",
       "      <td>0.932729</td>\n",
       "      <td>0.940468</td>\n",
       "      <td>9.403871e-01</td>\n",
       "      <td>0.940546</td>\n",
       "      <td>0.943864</td>\n",
       "      <td>0.939959</td>\n",
       "      <td>0.938833</td>\n",
       "      <td>0.003103</td>\n",
       "      <td>1</td>\n",
       "    </tr>\n",
       "    <tr>\n",
       "      <th>1</th>\n",
       "      <td>6.556974</td>\n",
       "      <td>0.162231</td>\n",
       "      <td>0.056441</td>\n",
       "      <td>0.008933</td>\n",
       "      <td>0.10</td>\n",
       "      <td>{'alpha': 0.1}</td>\n",
       "      <td>0.886445</td>\n",
       "      <td>0.882360</td>\n",
       "      <td>0.888717</td>\n",
       "      <td>0.881740</td>\n",
       "      <td>0.877032</td>\n",
       "      <td>0.883775</td>\n",
       "      <td>8.867764e-01</td>\n",
       "      <td>0.884384</td>\n",
       "      <td>0.890465</td>\n",
       "      <td>0.886909</td>\n",
       "      <td>0.884860</td>\n",
       "      <td>0.003679</td>\n",
       "      <td>2</td>\n",
       "    </tr>\n",
       "    <tr>\n",
       "      <th>2</th>\n",
       "      <td>5.147680</td>\n",
       "      <td>0.171073</td>\n",
       "      <td>0.064495</td>\n",
       "      <td>0.012326</td>\n",
       "      <td>0.20</td>\n",
       "      <td>{'alpha': 0.2}</td>\n",
       "      <td>0.827769</td>\n",
       "      <td>0.825713</td>\n",
       "      <td>0.832606</td>\n",
       "      <td>0.824040</td>\n",
       "      <td>0.819213</td>\n",
       "      <td>0.826612</td>\n",
       "      <td>8.292651e-01</td>\n",
       "      <td>0.827369</td>\n",
       "      <td>0.835023</td>\n",
       "      <td>0.829325</td>\n",
       "      <td>0.827693</td>\n",
       "      <td>0.004165</td>\n",
       "      <td>3</td>\n",
       "    </tr>\n",
       "    <tr>\n",
       "      <th>3</th>\n",
       "      <td>4.388294</td>\n",
       "      <td>0.256322</td>\n",
       "      <td>0.063595</td>\n",
       "      <td>0.007067</td>\n",
       "      <td>0.30</td>\n",
       "      <td>{'alpha': 0.3}</td>\n",
       "      <td>0.778048</td>\n",
       "      <td>0.777791</td>\n",
       "      <td>0.785640</td>\n",
       "      <td>0.775210</td>\n",
       "      <td>0.771758</td>\n",
       "      <td>0.778660</td>\n",
       "      <td>7.808635e-01</td>\n",
       "      <td>0.779866</td>\n",
       "      <td>0.788115</td>\n",
       "      <td>0.780890</td>\n",
       "      <td>0.779684</td>\n",
       "      <td>0.004467</td>\n",
       "      <td>4</td>\n",
       "    </tr>\n",
       "    <tr>\n",
       "      <th>4</th>\n",
       "      <td>3.870679</td>\n",
       "      <td>0.045375</td>\n",
       "      <td>0.062044</td>\n",
       "      <td>0.007071</td>\n",
       "      <td>0.50</td>\n",
       "      <td>{'alpha': 0.5}</td>\n",
       "      <td>0.690395</td>\n",
       "      <td>0.691858</td>\n",
       "      <td>0.701056</td>\n",
       "      <td>0.687696</td>\n",
       "      <td>0.688913</td>\n",
       "      <td>0.694862</td>\n",
       "      <td>6.944274e-01</td>\n",
       "      <td>0.692128</td>\n",
       "      <td>0.701993</td>\n",
       "      <td>0.693431</td>\n",
       "      <td>0.693676</td>\n",
       "      <td>0.004479</td>\n",
       "      <td>5</td>\n",
       "    </tr>\n",
       "    <tr>\n",
       "      <th>5</th>\n",
       "      <td>3.693654</td>\n",
       "      <td>0.226579</td>\n",
       "      <td>0.061193</td>\n",
       "      <td>0.006875</td>\n",
       "      <td>1</td>\n",
       "      <td>{'alpha': 1}</td>\n",
       "      <td>0.513579</td>\n",
       "      <td>0.515438</td>\n",
       "      <td>0.523162</td>\n",
       "      <td>0.512464</td>\n",
       "      <td>0.513982</td>\n",
       "      <td>0.516375</td>\n",
       "      <td>5.152771e-01</td>\n",
       "      <td>0.511656</td>\n",
       "      <td>0.522784</td>\n",
       "      <td>0.513861</td>\n",
       "      <td>0.515858</td>\n",
       "      <td>0.003794</td>\n",
       "      <td>6</td>\n",
       "    </tr>\n",
       "    <tr>\n",
       "      <th>6</th>\n",
       "      <td>3.088751</td>\n",
       "      <td>0.177704</td>\n",
       "      <td>0.046233</td>\n",
       "      <td>0.015460</td>\n",
       "      <td>10</td>\n",
       "      <td>{'alpha': 10}</td>\n",
       "      <td>-0.000284</td>\n",
       "      <td>-0.000073</td>\n",
       "      <td>-0.000007</td>\n",
       "      <td>-0.001224</td>\n",
       "      <td>-0.000117</td>\n",
       "      <td>-0.000393</td>\n",
       "      <td>-6.363484e-09</td>\n",
       "      <td>-0.000034</td>\n",
       "      <td>-0.000011</td>\n",
       "      <td>-0.000019</td>\n",
       "      <td>-0.000216</td>\n",
       "      <td>0.000359</td>\n",
       "      <td>7</td>\n",
       "    </tr>\n",
       "  </tbody>\n",
       "</table>\n",
       "</div>"
      ],
      "text/plain": [
       "   mean_fit_time  std_fit_time  mean_score_time  std_score_time param_alpha  \\\n",
       "0      14.959550      1.117113         0.061293        0.015104        0.01   \n",
       "1       6.556974      0.162231         0.056441        0.008933        0.10   \n",
       "2       5.147680      0.171073         0.064495        0.012326        0.20   \n",
       "3       4.388294      0.256322         0.063595        0.007067        0.30   \n",
       "4       3.870679      0.045375         0.062044        0.007071        0.50   \n",
       "5       3.693654      0.226579         0.061193        0.006875           1   \n",
       "6       3.088751      0.177704         0.046233        0.015460          10   \n",
       "\n",
       "            params  split0_test_score  split1_test_score  split2_test_score  \\\n",
       "0  {'alpha': 0.01}           0.939318           0.935599           0.940102   \n",
       "1   {'alpha': 0.1}           0.886445           0.882360           0.888717   \n",
       "2   {'alpha': 0.2}           0.827769           0.825713           0.832606   \n",
       "3   {'alpha': 0.3}           0.778048           0.777791           0.785640   \n",
       "4   {'alpha': 0.5}           0.690395           0.691858           0.701056   \n",
       "5     {'alpha': 1}           0.513579           0.515438           0.523162   \n",
       "6    {'alpha': 10}          -0.000284          -0.000073          -0.000007   \n",
       "\n",
       "   split3_test_score  split4_test_score  split5_test_score  split6_test_score  \\\n",
       "0           0.935356           0.932729           0.940468       9.403871e-01   \n",
       "1           0.881740           0.877032           0.883775       8.867764e-01   \n",
       "2           0.824040           0.819213           0.826612       8.292651e-01   \n",
       "3           0.775210           0.771758           0.778660       7.808635e-01   \n",
       "4           0.687696           0.688913           0.694862       6.944274e-01   \n",
       "5           0.512464           0.513982           0.516375       5.152771e-01   \n",
       "6          -0.001224          -0.000117          -0.000393      -6.363484e-09   \n",
       "\n",
       "   split7_test_score  split8_test_score  split9_test_score  mean_test_score  \\\n",
       "0           0.940546           0.943864           0.939959         0.938833   \n",
       "1           0.884384           0.890465           0.886909         0.884860   \n",
       "2           0.827369           0.835023           0.829325         0.827693   \n",
       "3           0.779866           0.788115           0.780890         0.779684   \n",
       "4           0.692128           0.701993           0.693431         0.693676   \n",
       "5           0.511656           0.522784           0.513861         0.515858   \n",
       "6          -0.000034          -0.000011          -0.000019        -0.000216   \n",
       "\n",
       "   std_test_score  rank_test_score  \n",
       "0        0.003103                1  \n",
       "1        0.003679                2  \n",
       "2        0.004165                3  \n",
       "3        0.004467                4  \n",
       "4        0.004479                5  \n",
       "5        0.003794                6  \n",
       "6        0.000359                7  "
      ]
     },
     "execution_count": 58,
     "metadata": {},
     "output_type": "execute_result"
    }
   ],
   "source": [
    "# Alpha = 0.01 est le meilleur hyper parametre.\n",
    "print(clf.best_params_)\n",
    "pd.DataFrame(clf.cv_results_)"
   ]
  },
  {
   "cell_type": "code",
   "execution_count": 107,
   "metadata": {},
   "outputs": [
    {
     "data": {
      "text/plain": [
       "0.9390513860612"
      ]
     },
     "execution_count": 107,
     "metadata": {},
     "output_type": "execute_result"
    }
   ],
   "source": [
    "#Construire le modèle avec le meilleur hyper paramètre!\n",
    "OptLasso_model = clf.best_estimator_\n",
    "OptLasso_model.fit(X_train,y_train)\n",
    "OptLasso_model.score(X_train,y_train)"
   ]
  },
  {
   "cell_type": "code",
   "execution_count": 108,
   "metadata": {},
   "outputs": [
    {
     "data": {
      "text/plain": [
       "0.9374335671423654"
      ]
     },
     "execution_count": 108,
     "metadata": {},
     "output_type": "execute_result"
    }
   ],
   "source": [
    "OptLasso_model.score(X_test,y_test)"
   ]
  },
  {
   "cell_type": "markdown",
   "metadata": {},
   "source": [
    "Avec alpha = 10, la performance du modèle a augmenté jusqu'à 93% par rapport à 51% comme avant!"
   ]
  },
  {
   "cell_type": "code",
   "execution_count": 109,
   "metadata": {},
   "outputs": [],
   "source": [
    "\n",
    "y_pred_2 = OptLasso_model.predict(X_test)"
   ]
  },
  {
   "cell_type": "code",
   "execution_count": 110,
   "metadata": {},
   "outputs": [],
   "source": [
    "# Classer les outputs en deux groupe:\n",
    "for i in range(len(y_pred_2)):\n",
    "    if(y_pred_2[i]>0):\n",
    "        y_pred_2[i] = 1\n",
    "    else:\n",
    "        y_pred_2[i] = -1"
   ]
  },
  {
   "cell_type": "code",
   "execution_count": 111,
   "metadata": {},
   "outputs": [
    {
     "name": "stdout",
     "output_type": "stream",
     "text": [
      "[[8987   74]\n",
      " [   1 8673]]\n"
     ]
    }
   ],
   "source": [
    "#Matrice de confusion\n",
    "cm = confusion_matrix(y_test, y_pred_2)\n",
    "print(cm)"
   ]
  },
  {
   "cell_type": "code",
   "execution_count": 65,
   "metadata": {
    "scrolled": true
   },
   "outputs": [
    {
     "name": "stdout",
     "output_type": "stream",
     "text": [
      "              precision    recall  f1-score   support\n",
      "\n",
      "          -1       1.00      0.99      1.00      9061\n",
      "           1       0.99      1.00      1.00      8674\n",
      "\n",
      "    accuracy                           1.00     17735\n",
      "   macro avg       1.00      1.00      1.00     17735\n",
      "weighted avg       1.00      1.00      1.00     17735\n",
      "\n"
     ]
    }
   ],
   "source": [
    "#Générer les principales scores pour évaluer le modèle Lasso:\n",
    "cl = classification_report(y_test, y_pred_2)\n",
    "print(cl)"
   ]
  },
  {
   "cell_type": "code",
   "execution_count": 66,
   "metadata": {},
   "outputs": [
    {
     "name": "stdout",
     "output_type": "stream",
     "text": [
      "0.9957710741471666\n"
     ]
    }
   ],
   "source": [
    "acc = metrics.accuracy_score(y_test, y_pred_2)\n",
    "print(acc)\n"
   ]
  },
  {
   "cell_type": "markdown",
   "metadata": {},
   "source": [
    "Avec un accuracy = 99,5% c'est à dire que le 99.5% les (prédictions) sont classé exactment commes les variables expliqué (target) dans la base test."
   ]
  },
  {
   "cell_type": "markdown",
   "metadata": {},
   "source": [
    "### SVM Sans Noyau\n",
    "L'idée principale de cette méthode de classification est que les SVM linéaires cherchent le séparateur (l’hyperplan de séparation) qui maximise la marge pour classer les données en deux groupes (positives = 1, négative = -1). En raison que le modèle SVM prendre beaucoup de temps pour le calcul, nous ne pouvons pas placer plusiers hyper-parametres pour tester. "
   ]
  },
  {
   "cell_type": "code",
   "execution_count": 67,
   "metadata": {
    "scrolled": false
   },
   "outputs": [
    {
     "name": "stdout",
     "output_type": "stream",
     "text": [
      "Fitting 3 folds for each of 6 candidates, totalling 18 fits\n",
      "{'C': 0.1, 'gamma': 0.1, 'kernel': 'linear'}\n"
     ]
    },
    {
     "data": {
      "text/html": [
       "<div>\n",
       "<style scoped>\n",
       "    .dataframe tbody tr th:only-of-type {\n",
       "        vertical-align: middle;\n",
       "    }\n",
       "\n",
       "    .dataframe tbody tr th {\n",
       "        vertical-align: top;\n",
       "    }\n",
       "\n",
       "    .dataframe thead th {\n",
       "        text-align: right;\n",
       "    }\n",
       "</style>\n",
       "<table border=\"1\" class=\"dataframe\">\n",
       "  <thead>\n",
       "    <tr style=\"text-align: right;\">\n",
       "      <th></th>\n",
       "      <th>mean_fit_time</th>\n",
       "      <th>std_fit_time</th>\n",
       "      <th>mean_score_time</th>\n",
       "      <th>std_score_time</th>\n",
       "      <th>param_C</th>\n",
       "      <th>param_gamma</th>\n",
       "      <th>param_kernel</th>\n",
       "      <th>params</th>\n",
       "      <th>split0_test_score</th>\n",
       "      <th>split1_test_score</th>\n",
       "      <th>split2_test_score</th>\n",
       "      <th>mean_test_score</th>\n",
       "      <th>std_test_score</th>\n",
       "      <th>rank_test_score</th>\n",
       "    </tr>\n",
       "  </thead>\n",
       "  <tbody>\n",
       "    <tr>\n",
       "      <th>0</th>\n",
       "      <td>256.511021</td>\n",
       "      <td>29.543547</td>\n",
       "      <td>11.085984</td>\n",
       "      <td>1.421846</td>\n",
       "      <td>0.1</td>\n",
       "      <td>0.10</td>\n",
       "      <td>linear</td>\n",
       "      <td>{'C': 0.1, 'gamma': 0.1, 'kernel': 'linear'}</td>\n",
       "      <td>0.996738</td>\n",
       "      <td>0.996375</td>\n",
       "      <td>0.997607</td>\n",
       "      <td>0.996907</td>\n",
       "      <td>0.000517</td>\n",
       "      <td>1</td>\n",
       "    </tr>\n",
       "    <tr>\n",
       "      <th>1</th>\n",
       "      <td>269.769373</td>\n",
       "      <td>37.958743</td>\n",
       "      <td>12.582206</td>\n",
       "      <td>2.401187</td>\n",
       "      <td>0.1</td>\n",
       "      <td>0.01</td>\n",
       "      <td>linear</td>\n",
       "      <td>{'C': 0.1, 'gamma': 0.01, 'kernel': 'linear'}</td>\n",
       "      <td>0.996738</td>\n",
       "      <td>0.996375</td>\n",
       "      <td>0.997607</td>\n",
       "      <td>0.996907</td>\n",
       "      <td>0.000517</td>\n",
       "      <td>1</td>\n",
       "    </tr>\n",
       "    <tr>\n",
       "      <th>2</th>\n",
       "      <td>1012.948360</td>\n",
       "      <td>199.352371</td>\n",
       "      <td>13.672808</td>\n",
       "      <td>2.216743</td>\n",
       "      <td>1</td>\n",
       "      <td>0.10</td>\n",
       "      <td>linear</td>\n",
       "      <td>{'C': 1, 'gamma': 0.1, 'kernel': 'linear'}</td>\n",
       "      <td>0.995360</td>\n",
       "      <td>0.994490</td>\n",
       "      <td>0.994635</td>\n",
       "      <td>0.994829</td>\n",
       "      <td>0.000381</td>\n",
       "      <td>3</td>\n",
       "    </tr>\n",
       "    <tr>\n",
       "      <th>3</th>\n",
       "      <td>1012.344333</td>\n",
       "      <td>227.691273</td>\n",
       "      <td>11.852858</td>\n",
       "      <td>2.736202</td>\n",
       "      <td>1</td>\n",
       "      <td>0.01</td>\n",
       "      <td>linear</td>\n",
       "      <td>{'C': 1, 'gamma': 0.01, 'kernel': 'linear'}</td>\n",
       "      <td>0.995360</td>\n",
       "      <td>0.994490</td>\n",
       "      <td>0.994635</td>\n",
       "      <td>0.994829</td>\n",
       "      <td>0.000381</td>\n",
       "      <td>3</td>\n",
       "    </tr>\n",
       "    <tr>\n",
       "      <th>4</th>\n",
       "      <td>1286.761158</td>\n",
       "      <td>101.467353</td>\n",
       "      <td>5.861030</td>\n",
       "      <td>1.528119</td>\n",
       "      <td>2</td>\n",
       "      <td>0.10</td>\n",
       "      <td>linear</td>\n",
       "      <td>{'C': 2, 'gamma': 0.1, 'kernel': 'linear'}</td>\n",
       "      <td>0.994490</td>\n",
       "      <td>0.992750</td>\n",
       "      <td>0.993837</td>\n",
       "      <td>0.993693</td>\n",
       "      <td>0.000718</td>\n",
       "      <td>5</td>\n",
       "    </tr>\n",
       "    <tr>\n",
       "      <th>5</th>\n",
       "      <td>903.779103</td>\n",
       "      <td>131.773866</td>\n",
       "      <td>5.675078</td>\n",
       "      <td>1.256623</td>\n",
       "      <td>2</td>\n",
       "      <td>0.01</td>\n",
       "      <td>linear</td>\n",
       "      <td>{'C': 2, 'gamma': 0.01, 'kernel': 'linear'}</td>\n",
       "      <td>0.994490</td>\n",
       "      <td>0.992750</td>\n",
       "      <td>0.993837</td>\n",
       "      <td>0.993693</td>\n",
       "      <td>0.000718</td>\n",
       "      <td>5</td>\n",
       "    </tr>\n",
       "  </tbody>\n",
       "</table>\n",
       "</div>"
      ],
      "text/plain": [
       "   mean_fit_time  std_fit_time  mean_score_time  std_score_time param_C  \\\n",
       "0     256.511021     29.543547        11.085984        1.421846     0.1   \n",
       "1     269.769373     37.958743        12.582206        2.401187     0.1   \n",
       "2    1012.948360    199.352371        13.672808        2.216743       1   \n",
       "3    1012.344333    227.691273        11.852858        2.736202       1   \n",
       "4    1286.761158    101.467353         5.861030        1.528119       2   \n",
       "5     903.779103    131.773866         5.675078        1.256623       2   \n",
       "\n",
       "  param_gamma param_kernel                                         params  \\\n",
       "0        0.10       linear   {'C': 0.1, 'gamma': 0.1, 'kernel': 'linear'}   \n",
       "1        0.01       linear  {'C': 0.1, 'gamma': 0.01, 'kernel': 'linear'}   \n",
       "2        0.10       linear     {'C': 1, 'gamma': 0.1, 'kernel': 'linear'}   \n",
       "3        0.01       linear    {'C': 1, 'gamma': 0.01, 'kernel': 'linear'}   \n",
       "4        0.10       linear     {'C': 2, 'gamma': 0.1, 'kernel': 'linear'}   \n",
       "5        0.01       linear    {'C': 2, 'gamma': 0.01, 'kernel': 'linear'}   \n",
       "\n",
       "   split0_test_score  split1_test_score  split2_test_score  mean_test_score  \\\n",
       "0           0.996738           0.996375           0.997607         0.996907   \n",
       "1           0.996738           0.996375           0.997607         0.996907   \n",
       "2           0.995360           0.994490           0.994635         0.994829   \n",
       "3           0.995360           0.994490           0.994635         0.994829   \n",
       "4           0.994490           0.992750           0.993837         0.993693   \n",
       "5           0.994490           0.992750           0.993837         0.993693   \n",
       "\n",
       "   std_test_score  rank_test_score  \n",
       "0        0.000517                1  \n",
       "1        0.000517                1  \n",
       "2        0.000381                3  \n",
       "3        0.000381                3  \n",
       "4        0.000718                5  \n",
       "5        0.000718                5  "
      ]
     },
     "execution_count": 67,
     "metadata": {},
     "output_type": "execute_result"
    }
   ],
   "source": [
    "#Cross Validation avec GridsearchCv\n",
    "from sklearn.model_selection import RepeatedStratifiedKFold\n",
    "from sklearn.model_selection import GridSearchCV\n",
    "#sklearn.metrics.SCORERS.keys()\n",
    "param_grid = {'C': [0.1,1, 2], 'gamma': [0.1,0.01], 'kernel': ['linear']}\n",
    "#cv = RepeatedStratifiedKFold(n_splits=20, n_repeats=3, random_state=1)\n",
    "model = svm.SVC(cache_size=8000)\n",
    "clf = GridSearchCV(model,param_grid,cv=3,verbose = 1,n_jobs=-1, scoring = 'accuracy')\n",
    "clf.fit(X_train,y_train)\n",
    "\n",
    "print(clf.best_params_)\n",
    "pd.DataFrame(clf.cv_results_)"
   ]
  },
  {
   "cell_type": "code",
   "execution_count": null,
   "metadata": {},
   "outputs": [],
   "source": [
    "# On trouve qu'avec un C = 0.1 , gamma = 0.1, ce sont les meilleurs hyper-parametres du modèle SVM Lineaire!"
   ]
  },
  {
   "cell_type": "code",
   "execution_count": 68,
   "metadata": {},
   "outputs": [
    {
     "data": {
      "text/plain": [
       "0.9968424020298844"
      ]
     },
     "execution_count": 68,
     "metadata": {},
     "output_type": "execute_result"
    }
   ],
   "source": [
    "#Trouver le meilleur estimateur du modele SVM Linéaire ( score = 99.6% plus grand que les deux models avants)\n",
    "OptSVML_model = clf.best_estimator_\n",
    "OptSVML_model.fit(X_train,y_train)\n",
    "OptSVML_model.score(X_test, y_test)"
   ]
  },
  {
   "cell_type": "code",
   "execution_count": 69,
   "metadata": {},
   "outputs": [],
   "source": [
    "y_pred_3 = OptSVML_model.predict(X_test)"
   ]
  },
  {
   "cell_type": "code",
   "execution_count": 70,
   "metadata": {},
   "outputs": [
    {
     "data": {
      "text/plain": [
       "array([-1, -1, -1, ...,  1, -1, -1], dtype=int64)"
      ]
     },
     "execution_count": 70,
     "metadata": {},
     "output_type": "execute_result"
    }
   ],
   "source": [
    "y_pred_3"
   ]
  },
  {
   "cell_type": "code",
   "execution_count": 72,
   "metadata": {},
   "outputs": [
    {
     "name": "stdout",
     "output_type": "stream",
     "text": [
      "              precision    recall  f1-score   support\n",
      "\n",
      "          -1       1.00      0.99      1.00      9061\n",
      "           1       0.99      1.00      1.00      8674\n",
      "\n",
      "    accuracy                           1.00     17735\n",
      "   macro avg       1.00      1.00      1.00     17735\n",
      "weighted avg       1.00      1.00      1.00     17735\n",
      "\n"
     ]
    }
   ],
   "source": [
    "#Principales scores pour évaluer le modèle SVM lineaire!\n",
    "cl = classification_report(y_test, y_pred_3)\n",
    "print(cl)"
   ]
  },
  {
   "cell_type": "code",
   "execution_count": 73,
   "metadata": {},
   "outputs": [
    {
     "name": "stdout",
     "output_type": "stream",
     "text": [
      "[[9009   52]\n",
      " [   4 8670]]\n"
     ]
    }
   ],
   "source": [
    "#Matrice de confusion du modèle SVM linéaire\n",
    "cm = confusion_matrix(y_test, y_pred_3)\n",
    "print(cm)"
   ]
  },
  {
   "cell_type": "code",
   "execution_count": 54,
   "metadata": {},
   "outputs": [
    {
     "data": {
      "text/plain": [
       "dict_keys(['explained_variance', 'r2', 'max_error', 'neg_median_absolute_error', 'neg_mean_absolute_error', 'neg_mean_squared_error', 'neg_mean_squared_log_error', 'neg_root_mean_squared_error', 'neg_mean_poisson_deviance', 'neg_mean_gamma_deviance', 'accuracy', 'roc_auc', 'roc_auc_ovr', 'roc_auc_ovo', 'roc_auc_ovr_weighted', 'roc_auc_ovo_weighted', 'balanced_accuracy', 'average_precision', 'neg_log_loss', 'neg_brier_score', 'adjusted_rand_score', 'homogeneity_score', 'completeness_score', 'v_measure_score', 'mutual_info_score', 'adjusted_mutual_info_score', 'normalized_mutual_info_score', 'fowlkes_mallows_score', 'precision', 'precision_macro', 'precision_micro', 'precision_samples', 'precision_weighted', 'recall', 'recall_macro', 'recall_micro', 'recall_samples', 'recall_weighted', 'f1', 'f1_macro', 'f1_micro', 'f1_samples', 'f1_weighted', 'jaccard', 'jaccard_macro', 'jaccard_micro', 'jaccard_samples', 'jaccard_weighted'])"
      ]
     },
     "execution_count": 54,
     "metadata": {},
     "output_type": "execute_result"
    }
   ],
   "source": [
    "import sklearn\n",
    "sklearn.metrics.SCORERS.keys()"
   ]
  },
  {
   "cell_type": "markdown",
   "metadata": {},
   "source": [
    "## Questions:\n",
    "* 2) Réaliser une classification binaire avec l'une des méthodes linéaire précédent en utilisant la réduction de dimension (ACP par exemple, ou une autre méthode)\n"
   ]
  },
  {
   "cell_type": "markdown",
   "metadata": {},
   "source": [
    "L'objectif de l'ACP est de réduire le nombre de dimensions (dans ce cas nous avons plus de 700 dimension différents) en le projetant sur un sous-espace à k dimensions où k <d. La méthode l'ACP suit les étapes suivants:\n",
    "\n",
    "1) Standardisez les données. \n",
    "2) Utilisez les données standardisées pour générer une matrice de covariance (ou effectuer une décomposition vectorielle singulière). \n",
    "3) Obtenir des vecteurs propres (composantes principales) et des valeurs propres à partir de la matrice de covariance. Donc, chaque vecteur propre aura une valeur propre correspondante. Triez les valeurs propres par ordre décroissant. \n",
    "4) Sélectionnez les k vecteurs propres avec les valeurs propres les plus grandes, où k est le nombre de dimensions utilisées dans le nouvel espace d'entités (k≤d). Construisez une nouvelle matrice avec les k vecteurs propres sélectionnés.\n",
    "\n",
    "Pour la suite, on va appliquer une des méthodes de classification utilisé dans la question 1 avec les k dimensions trouvés grace à l'ACP pour faire la prédiction."
   ]
  },
  {
   "cell_type": "code",
   "execution_count": 80,
   "metadata": {},
   "outputs": [],
   "source": [
    "\n",
    "from sklearn import decomposition\n",
    "from sklearn.decomposition import PCA\n",
    "from sklearn.preprocessing import StandardScaler\n",
    "from matplotlib import*\n",
    "import matplotlib.pyplot as plt\n",
    "from matplotlib.cm import register_cmap\n",
    "from scipy import stats\n",
    "import seaborn"
   ]
  },
  {
   "cell_type": "code",
   "execution_count": 82,
   "metadata": {},
   "outputs": [],
   "source": [
    "# 1) Normalisé les données dans la base train et la base test\n",
    "X_std = StandardScaler().fit_transform(X_train)\n",
    "X_std_test =StandardScaler().fit_transform(X_test)"
   ]
  },
  {
   "cell_type": "code",
   "execution_count": 76,
   "metadata": {},
   "outputs": [
    {
     "data": {
      "text/plain": [
       "array([[-0.05392497, -1.14795437, -1.24010967, ...,  0.        ,\n",
       "        -0.02027277, -0.05425844],\n",
       "       [ 0.29726625, -1.14795437, -0.64830025, ...,  0.        ,\n",
       "        -0.02027277, -0.05425844],\n",
       "       [ 0.99964868,  1.18190486, -1.24010967, ...,  0.        ,\n",
       "        -0.02027277, -0.05425844],\n",
       "       ...,\n",
       "       [-1.45868983, -1.14795437,  1.127128  , ...,  0.        ,\n",
       "        -0.02027277, -0.05425844],\n",
       "       [-0.7563074 ,  0.40528512, -0.64830025, ...,  0.        ,\n",
       "        -0.02027277, -0.05425844],\n",
       "       [-0.40511618, -0.37133463, -1.24010967, ...,  0.        ,\n",
       "        -0.02027277, -0.05425844]])"
      ]
     },
     "execution_count": 76,
     "metadata": {},
     "output_type": "execute_result"
    }
   ],
   "source": [
    "X_std"
   ]
  },
  {
   "cell_type": "code",
   "execution_count": 77,
   "metadata": {
    "scrolled": false
   },
   "outputs": [],
   "source": [
    "# 2) Construire la matrice de covariance et trouver les valeurs propres et les vecteurs propres!\n",
    "cov_mat = np.cov(X_std.T)\n",
    "#print('Matrice de la covariance: \\n%s' %np.cov(X_std.T))\n",
    "eig_vals, eig_vecs = np.linalg.eig(cov_mat)\n",
    "eig_pairs = [(np.abs(eig_vals[i]), eig_vecs[:,i]) for i in range(len(eig_vals))]\n",
    "#print('Eigenvectors \\n%s' %eig_vecs)\n",
    "#print('\\nEigenvalues \\n%s' %eig_vals)"
   ]
  },
  {
   "cell_type": "code",
   "execution_count": 81,
   "metadata": {},
   "outputs": [
    {
     "data": {
      "text/plain": [
       "array([[-7.78825421e+00,  1.20983077e+00,  2.24686627e+00, ...,\n",
       "         2.29662992e-16, -6.62107594e-17,  2.73169900e-17],\n",
       "       [ 4.55418004e+00, -1.17132601e+00,  2.40289337e-01, ...,\n",
       "         1.44104426e-16,  9.26071106e-17,  4.35276988e-17],\n",
       "       [ 4.01198142e+00, -1.87749032e+00,  2.43196498e+00, ...,\n",
       "         1.28834466e-16, -9.36480289e-17,  9.61419712e-17],\n",
       "       ...,\n",
       "       [ 5.03233673e+00,  1.46985557e+00, -1.94406770e+00, ...,\n",
       "         1.79460113e-18, -8.13543751e-18,  3.11523922e-18],\n",
       "       [ 6.13098011e+00, -2.44052622e+00, -2.67543293e+00, ...,\n",
       "        -1.76355890e-17, -5.29714005e-18, -2.59463588e-19],\n",
       "       [ 6.17870523e+00, -3.26320724e+00,  4.05639725e+00, ...,\n",
       "         1.08458012e-17, -6.20906457e-18, -1.78579411e-18]])"
      ]
     },
     "execution_count": 81,
     "metadata": {},
     "output_type": "execute_result"
    }
   ],
   "source": [
    "#Redimensionner les données dans la base train\n",
    "pca = PCA()\n",
    "pca.fit_transform(X_std)\n",
    "#print(pca.explained_variance_ratio_) "
   ]
  },
  {
   "cell_type": "code",
   "execution_count": 59,
   "metadata": {},
   "outputs": [
    {
     "data": {
      "image/png": "[encoded data removed]",
      "text/plain": [
       "<Figure size 432x288 with 1 Axes>"
      ]
     },
     "metadata": {
      "needs_background": "light"
     },
     "output_type": "display_data"
    }
   ],
   "source": [
    "#Crée une Scree plot pour trouver le meilleur k (ici on voit que les deux premiers k sont les dimensions le plus importants)\n",
    "PC_values = np.arange(pca.n_components_) + 1\n",
    "plt.plot(PC_values, pca.explained_variance_ratio_, 'ro-', linewidth=2)\n",
    "plt.title('Scree Plot')\n",
    "plt.xlabel('Nombres de principales composantes')\n",
    "plt.ylabel('Proportion de variance expliquée')\n",
    "plt.show()"
   ]
  },
  {
   "cell_type": "code",
   "execution_count": 83,
   "metadata": {},
   "outputs": [],
   "source": [
    "#Etape 2 : Appliquer le modèle Ridge avec les 2 premiers dimensions trouvés avec l'ACP\n",
    "pca = PCA(n_components=2)\n",
    "Xreg_train_pca = pca.fit_transform(X_std)\n",
    "Xreg_test_pca = pca.fit_transform(X_std_test)"
   ]
  },
  {
   "cell_type": "code",
   "execution_count": 84,
   "metadata": {},
   "outputs": [],
   "source": [
    "from sklearn.linear_model import Ridge"
   ]
  },
  {
   "cell_type": "code",
   "execution_count": 90,
   "metadata": {},
   "outputs": [
    {
     "data": {
      "text/plain": [
       "0.9300635084066882"
      ]
     },
     "execution_count": 90,
     "metadata": {},
     "output_type": "execute_result"
    }
   ],
   "source": [
    "model_pca = linear_model.Ridge(alpha = 10)\n",
    "model_pca.fit(Xreg_train_pca, y_train)\n",
    "model_pca.score(Xreg_train_pca, y_train)\n"
   ]
  },
  {
   "cell_type": "code",
   "execution_count": 91,
   "metadata": {},
   "outputs": [],
   "source": [
    "y_pred_pca = model_pca.predict(Xreg_test_pca)"
   ]
  },
  {
   "cell_type": "code",
   "execution_count": 94,
   "metadata": {},
   "outputs": [],
   "source": [
    "#Transformer les outputs en binaire:\n",
    "for i in range(len(y_pred_pca)):\n",
    "    if(y_pred_pca[i]>0):\n",
    "        y_pred_pca[i] = 1\n",
    "    else:\n",
    "        y_pred_pca[i] = -1"
   ]
  },
  {
   "cell_type": "code",
   "execution_count": null,
   "metadata": {},
   "outputs": [],
   "source": [
    "model_pca.score(Xreg_test_pca, y_test)"
   ]
  },
  {
   "cell_type": "code",
   "execution_count": 95,
   "metadata": {},
   "outputs": [
    {
     "name": "stdout",
     "output_type": "stream",
     "text": [
      "              precision    recall  f1-score   support\n",
      "\n",
      "          -1       1.00      0.99      1.00      9061\n",
      "           1       0.99      1.00      1.00      8674\n",
      "\n",
      "    accuracy                           1.00     17735\n",
      "   macro avg       1.00      1.00      1.00     17735\n",
      "weighted avg       1.00      1.00      1.00     17735\n",
      "\n"
     ]
    }
   ],
   "source": [
    "cl = classification_report(y_test, y_pred_pca)\n",
    "print(cl)"
   ]
  },
  {
   "cell_type": "code",
   "execution_count": 96,
   "metadata": {},
   "outputs": [
    {
     "name": "stdout",
     "output_type": "stream",
     "text": [
      "[[8985   76]\n",
      " [   0 8674]]\n"
     ]
    }
   ],
   "source": [
    "#Matrice de confusion\n",
    "cm = confusion_matrix(y_test, y_pred_pca)\n",
    "print(cm)"
   ]
  },
  {
   "cell_type": "code",
   "execution_count": 97,
   "metadata": {},
   "outputs": [
    {
     "name": "stdout",
     "output_type": "stream",
     "text": [
      "0.9957146884691288\n"
     ]
    }
   ],
   "source": [
    "#Calculer le taux de justement (accuracy) pour les y predict et les y_test\n",
    "acc = metrics.accuracy_score(y_test, y_pred_pca)\n",
    "print(acc)"
   ]
  },
  {
   "cell_type": "code",
   "execution_count": null,
   "metadata": {},
   "outputs": [],
   "source": []
  },
  {
   "cell_type": "markdown",
   "metadata": {},
   "source": [
    "## Questions:\n",
    "* 3) Modifier la taille des données extraites (BlockSz) afin de trouver une taille à partir de la quelle un taux d'erreur de l'ordre de 10% est observée\n",
    " * Avec cette taille de block comparer les méthodes de classification précédentes (avec et sans réduction de dimentionalité)"
   ]
  },
  {
   "cell_type": "markdown",
   "metadata": {},
   "source": [
    "Le fait de changer la taille des données extraites peuvent avoir une influence sur le taux d'erreur parce que si la taille des données est augmenté, cela fait augmente aussi les erreurs pour la prédiction du modèle machine learning et à l'inverse.  \n",
    "\n",
    "\n",
    "Avec un taux d'erreur de l'ordre de 10% est calculé par la différent de 1 - taux accuracy selon la formule suivant:\n",
    "                    \"err_test = 1 - np.sum(clf.predict(X_test)==y_test).astype(float)/n_test\"\n",
    "\n",
    "Donc pour trouver la nombre de blocs nécessaires, il faut que nous trouvons la taille des données qui correspond à un taux d'erreur de 10%. Pour cela, on peut commercer tout d'abord en cherchant la nouvelle taille des données pour le test dataset.\n",
    "\n",
    "Noté que ici, nous utilisons le modèle régression Lasso pour trouver le nombre BlockSz (Si nous utiliserons un autre modèle, la taille du blockSZ peut changer aussi car chaque model donne un taux accuracy différents).  "
   ]
  },
  {
   "cell_type": "code",
   "execution_count": 112,
   "metadata": {},
   "outputs": [],
   "source": []
  },
  {
   "cell_type": "code",
   "execution_count": 114,
   "metadata": {},
   "outputs": [
    {
     "data": {
      "text/plain": [
       "17660.0"
      ]
     },
     "execution_count": 114,
     "metadata": {},
     "output_type": "execute_result"
    }
   ],
   "source": [
    "import numpy as np\n",
    "np.sum(y_pred_2 == y_test).astype(float)"
   ]
  },
  {
   "cell_type": "code",
   "execution_count": 118,
   "metadata": {},
   "outputs": [
    {
     "name": "stdout",
     "output_type": "stream",
     "text": [
      "19622.222222222223\n"
     ]
    }
   ],
   "source": [
    "n_test = np.sum(np.sum(y_pred_2 == y_test)).astype(float) /(1 - 0.1)\n",
    "print(n_test)"
   ]
  },
  {
   "cell_type": "code",
   "execution_count": 119,
   "metadata": {},
   "outputs": [
    {
     "name": "stdout",
     "output_type": "stream",
     "text": [
      "65407.40740740741\n"
     ]
    }
   ],
   "source": [
    "N_total = n_test/0.3\n",
    "print(N_total)"
   ]
  },
  {
   "cell_type": "markdown",
   "metadata": {},
   "source": [
    "Avec BlockSz = 100, on a 84452 observations dans la Dataset qui contient la langue francais et la langue Allemagne. Donc avec N_total observations on doit trouver un nombre de BlocSz égale:\n",
    "\n",
    "BlockSz = N_total*100/84452 "
   ]
  },
  {
   "cell_type": "code",
   "execution_count": 120,
   "metadata": {},
   "outputs": [
    {
     "name": "stdout",
     "output_type": "stream",
     "text": [
      "77.44921068465804\n"
     ]
    }
   ],
   "source": [
    "BlockSz = (N_total*100)/84452\n",
    "print(BlockSz)"
   ]
  },
  {
   "cell_type": "markdown",
   "metadata": {},
   "source": [
    "Pour conclure, avec un BlocSz = 77 on peut avoir un taux d'erreur = 10% en utilisant le modèle régression lasso "
   ]
  },
  {
   "cell_type": "markdown",
   "metadata": {},
   "source": [
    "## Questions:\n",
    "* 4. Réaliser une classification binaire en utilisant les SVM à noyau (comparer les performances obtenus avec un noyau Gaussien (rbf) et un noyau polynomial)"
   ]
  },
  {
   "cell_type": "code",
   "execution_count": 121,
   "metadata": {},
   "outputs": [],
   "source": [
    "from sklearn import svm\n",
    "from sklearn.svm import SVC\n",
    "from sklearn.model_selection import GridSearchCV\n",
    "import time\n",
    "start_time = time.time()\n",
    "from numpy import arange\n",
    "import pandas as pd  "
   ]
  },
  {
   "cell_type": "code",
   "execution_count": 122,
   "metadata": {},
   "outputs": [],
   "source": [
    "#Modele SVM gaussien (kernel = 'rbf')\n",
    "classifier = svm.SVC(kernel ='rbf', gamma= 'auto', C =0.01)\n",
    "classifier.fit(X_train, y_train)\n",
    "y_predict = classifier.predict(X_test)"
   ]
  },
  {
   "cell_type": "code",
   "execution_count": 123,
   "metadata": {},
   "outputs": [
    {
     "data": {
      "text/plain": [
       "0.9963993136946908"
      ]
     },
     "execution_count": 123,
     "metadata": {},
     "output_type": "execute_result"
    }
   ],
   "source": [
    "#Score pour la base Train\n",
    "classifier.score(X_train, y_train)"
   ]
  },
  {
   "cell_type": "code",
   "execution_count": 138,
   "metadata": {},
   "outputs": [
    {
     "name": "stdout",
     "output_type": "stream",
     "text": [
      "[[8984   77]\n",
      " [   1 8673]]\n"
     ]
    }
   ],
   "source": [
    "#Matrice de confusion pour le modèle \n",
    "cm = confusion_matrix(y_test, y_predict)\n",
    "print(cm)"
   ]
  },
  {
   "cell_type": "code",
   "execution_count": 124,
   "metadata": {},
   "outputs": [
    {
     "name": "stdout",
     "output_type": "stream",
     "text": [
      "              precision    recall  f1-score   support\n",
      "\n",
      "          -1       1.00      0.99      1.00      9061\n",
      "           1       0.99      1.00      1.00      8674\n",
      "\n",
      "    accuracy                           1.00     17735\n",
      "   macro avg       1.00      1.00      1.00     17735\n",
      "weighted avg       1.00      1.00      1.00     17735\n",
      "\n"
     ]
    }
   ],
   "source": [
    "#Evaluation le modele\n",
    "\n",
    "from sklearn.metrics import classification_report\n",
    "\n",
    "print(classification_report(y_test, y_predict))\n"
   ]
  },
  {
   "cell_type": "code",
   "execution_count": null,
   "metadata": {},
   "outputs": [],
   "source": []
  },
  {
   "cell_type": "code",
   "execution_count": 125,
   "metadata": {},
   "outputs": [
    {
     "data": {
      "text/plain": [
       "SVC(C=0.01, gamma=0.001, kernel='poly')"
      ]
     },
     "execution_count": 125,
     "metadata": {},
     "output_type": "execute_result"
    }
   ],
   "source": [
    "#Modèle SVM nonlinear avec kernel = poly\n",
    "classifier_2 = svm.SVC(kernel ='poly', gamma= 0.001, C = 0.01)\n",
    "classifier_2.fit(X_train, y_train)\n"
   ]
  },
  {
   "cell_type": "markdown",
   "metadata": {},
   "source": [
    "Ici, on a choisi le meilleur hyper parametres qu'on a testé avec GridSearchCv en dessous pour éviter la perte de temps de calcul ( vu que le modele prendre beaucoup de temps pour calculer). Pour noter, si le C est grande, l'optimisation choisira un hyperplan à plus faible marge si cet hyperplan réussit mieux à classer correctement tous les points d'apprentissage et au contraire si le C est petite, l'optimisation recherche un hyperplan de séparation à marge plus grande, même si cet hyperplan classe de manière erronée plus de points"
   ]
  },
  {
   "cell_type": "code",
   "execution_count": 126,
   "metadata": {},
   "outputs": [
    {
     "data": {
      "text/plain": [
       "0.9964959764142964"
      ]
     },
     "execution_count": 126,
     "metadata": {},
     "output_type": "execute_result"
    }
   ],
   "source": [
    "#Predicte le modèle pour X_train, y_train\n",
    "classifier_2.score(X_train, y_train)"
   ]
  },
  {
   "cell_type": "code",
   "execution_count": 127,
   "metadata": {},
   "outputs": [],
   "source": [
    "y_predict_4 = classifier_2.predict(X_test)"
   ]
  },
  {
   "cell_type": "code",
   "execution_count": 128,
   "metadata": {},
   "outputs": [
    {
     "name": "stdout",
     "output_type": "stream",
     "text": [
      "              precision    recall  f1-score   support\n",
      "\n",
      "          -1       1.00      0.99      1.00      9061\n",
      "           1       0.99      1.00      1.00      8674\n",
      "\n",
      "    accuracy                           1.00     17735\n",
      "   macro avg       1.00      1.00      1.00     17735\n",
      "weighted avg       1.00      1.00      1.00     17735\n",
      "\n"
     ]
    }
   ],
   "source": [
    "#Critères pour évaluer le modèle SVM rbf\n",
    "from sklearn.metrics import classification_report\n",
    "\n",
    "print(classification_report(y_test, y_predict_4))"
   ]
  },
  {
   "cell_type": "code",
   "execution_count": 139,
   "metadata": {},
   "outputs": [
    {
     "name": "stdout",
     "output_type": "stream",
     "text": [
      "[[8989   72]\n",
      " [   2 8672]]\n"
     ]
    }
   ],
   "source": [
    "#Matrice de confusion\n",
    "cm = confusion_matrix(y_test, y_predict_4)\n",
    "print(cm)"
   ]
  },
  {
   "cell_type": "code",
   "execution_count": 26,
   "metadata": {},
   "outputs": [
    {
     "name": "stdout",
     "output_type": "stream",
     "text": [
      "{'C': 0.01, 'gamma': 0.001, 'kernel': 'poly'}\n",
      "   mean_fit_time  std_fit_time  mean_score_time  std_score_time param_C  \\\n",
      "0    1855.345523      0.882100       746.146791        1.655853  0.0001   \n",
      "1    1863.444664     37.186680      1641.277087      297.219164  0.0001   \n",
      "2    1778.222482      0.726672       735.132133       54.295254  0.0001   \n",
      "3    1932.448743     62.776949      1420.107595       51.763975  0.0001   \n",
      "4     290.197003      3.827637       119.729544        4.583247  0.0100   \n",
      "5     429.519816     15.290991       308.849817        4.931068  0.0100   \n",
      "6    1741.040676     44.016377       611.254488       35.658941  0.0100   \n",
      "7    1040.010657    146.194505       645.800941      126.622465  0.0100   \n",
      "\n",
      "  param_gamma param_kernel                                            params  \\\n",
      "0      0.0010         poly   {'C': 0.0001, 'gamma': 0.001, 'kernel': 'poly'}   \n",
      "1      0.0010          rbf    {'C': 0.0001, 'gamma': 0.001, 'kernel': 'rbf'}   \n",
      "2      0.0001         poly  {'C': 0.0001, 'gamma': 0.0001, 'kernel': 'poly'}   \n",
      "3      0.0001          rbf   {'C': 0.0001, 'gamma': 0.0001, 'kernel': 'rbf'}   \n",
      "4      0.0010         poly     {'C': 0.01, 'gamma': 0.001, 'kernel': 'poly'}   \n",
      "5      0.0010          rbf      {'C': 0.01, 'gamma': 0.001, 'kernel': 'rbf'}   \n",
      "6      0.0001         poly    {'C': 0.01, 'gamma': 0.0001, 'kernel': 'poly'}   \n",
      "7      0.0001          rbf     {'C': 0.01, 'gamma': 0.0001, 'kernel': 'rbf'}   \n",
      "\n",
      "   split0_test_score  split1_test_score  split2_test_score  mean_test_score  \\\n",
      "0           0.508844           0.508917           0.508881         0.508881   \n",
      "1           0.508844           0.508917           0.508881         0.508881   \n",
      "2           0.508844           0.508917           0.508881         0.508881   \n",
      "3           0.508844           0.508917           0.508881         0.508881   \n",
      "4           0.996303           0.996593           0.996302         0.996399   \n",
      "5           0.995940           0.996303           0.995940         0.996061   \n",
      "6           0.508844           0.508917           0.508881         0.508881   \n",
      "7           0.994998           0.995215           0.994417         0.994877   \n",
      "\n",
      "   std_test_score  rank_test_score  \n",
      "0        0.000030                4  \n",
      "1        0.000030                4  \n",
      "2        0.000030                4  \n",
      "3        0.000030                4  \n",
      "4        0.000137                1  \n",
      "5        0.000171                2  \n",
      "6        0.000030                4  \n",
      "7        0.000337                3  \n"
     ]
    }
   ],
   "source": [
    "#Cross validation pour trouver les meilleurs hyper-parametres du modele SVM non lineaire!\n",
    "from sklearn.svm import SVC\n",
    "from sklearn.model_selection import GridSearchCV\n",
    "\n",
    "import time\n",
    "start_time = time.time()\n",
    "from numpy import arange\n",
    "import pandas as pd    \n",
    "pd.options.display.max_columns = 60\n",
    "\n",
    "model = SVC(cache_size=8000)\n",
    "\n",
    "params= {'C': [0.0001, 0.01], 'gamma': [0.001, 0.0001], 'kernel': ['poly', 'rbf']}\n",
    "\n",
    "scoring ='accuracy'\n",
    "cv= 3\n",
    "clf = GridSearchCV(estimator=model,param_grid=params, scoring=scoring , cv=cv, n_jobs=-1)\n",
    "\n",
    "clf.fit(X_train, y_train)\n",
    "\n",
    "print(clf.best_params_)\n",
    "\n",
    "#print(pd.DataFrame(clf.cv_results_))"
   ]
  },
  {
   "cell_type": "markdown",
   "metadata": {},
   "source": [
    "Après lancer la cross validation avec les différents valeurs pour les hyper-parametre, on trouve qu'avec C = 0.01 et gamma = 0.001 et le noyau polynomial, le modèle donne le meilleur résultat. Par contre le temps de calculer avec le méthode SVM nonlineaire (rbf et polynomial) sont plus longue par rapport les 3 autres modèles dans la 1er question.\n",
    "On doit choisi les valeurs pour C et gamma plus faibles pour avoir un résultat sortir. Si non, on doit réduire les données dans la base X_train, y_train pour réduire le temps de calcul mais vu que cette méthode peut produire les biais d'estimation donc on n'utilise pas cette techniques"
   ]
  },
  {
   "cell_type": "markdown",
   "metadata": {},
   "source": [
    "## Questions:\n",
    "* 5. Sur la base des résultats précédents, quelle est la méthode linéaire la plus adaptée à ce problème de classification\n"
   ]
  },
  {
   "cell_type": "markdown",
   "metadata": {},
   "source": [
    "Afin de chosir la méthode linéaire la plus adaptée pour la classification des texte nous pouvons se baser sur les critès commes le scores sortir pour chaque modèles, le taux accuracy, le score précision, recall ou f1 trouvés dans la matrice de confusion et à la fin c'est le temps pour lancer chaque modèle. Donc après comparer ces criteres on trouves que le modèle SVM linaire est plus adaptée parmi les méthode linéaire pour faire la classifcation car il donne les résultats plus significative par rapport les modèles Ridge et Lasso et PCA régression. \n"
   ]
  },
  {
   "cell_type": "markdown",
   "metadata": {},
   "source": [
    "## Questions:\n",
    "* 6. Enfin, mettre en place une méthode (de votre choix) de classification multi-classe;\n",
    " * Donner la matrice de confusion et indiquer les languages les plus difficile à distinguer."
   ]
  },
  {
   "cell_type": "markdown",
   "metadata": {},
   "source": [
    "### Pour la classifcation multi-class, nous appliquerons les méthodes one vs one et one vs all, \n",
    "La première étape est la préparation les données comme ce que nous avons faites dans la premiere parties, nous allons créer un dataset qui regroupe tous les 4 langues. Donc pour chaque langue est un class (on note de 1 à 4 pour chaque langue). Et ensuite, on fait la classification pour chaque langue comparér avec les 3 autres langues (one vs all), et ensuite on classifie 2 par 2 ( par exemple FR vs DE , FR vs EN , FR vs ES, ES vs EN, etc....)."
   ]
  },
  {
   "cell_type": "code",
   "execution_count": 8,
   "metadata": {},
   "outputs": [],
   "source": [
    "#Créer les nouveaux data frame afin de joindres tous ces dataframe pour avoir un base de données qui contient tous les 4 langues\n",
    "df_FR = pd.DataFrame(FeaFR)\n",
    "df_DE = pd.DataFrame(FeaDE)\n",
    "df_EN = pd.DataFrame(FeaEN)\n",
    "df_ES = pd.DataFrame(FeaES)"
   ]
  },
  {
   "cell_type": "code",
   "execution_count": 9,
   "metadata": {},
   "outputs": [],
   "source": [
    "#Classer les langues de 1 à 4\n",
    "df_FR['y_2'] = 1\n",
    "df_DE['y_2'] = 2\n",
    "df_EN['y_2'] = 3\n",
    "df_ES['y_2'] = 4\n"
   ]
  },
  {
   "cell_type": "code",
   "execution_count": 10,
   "metadata": {},
   "outputs": [],
   "source": [
    "df_FR.reset_index(drop=True, inplace=True)\n",
    "df_DE.reset_index(drop=True, inplace=True)\n",
    "df_EN.reset_index(drop=True, inplace=True)\n",
    "df_ES.reset_index(drop=True, inplace=True)"
   ]
  },
  {
   "cell_type": "code",
   "execution_count": 11,
   "metadata": {},
   "outputs": [
    {
     "name": "stdout",
     "output_type": "stream",
     "text": [
      "<class 'pandas.core.frame.DataFrame'>\n",
      "RangeIndex: 169765 entries, 0 to 169764\n",
      "Columns: 703 entries, 0 to y_2\n",
      "dtypes: int32(702), int64(1)\n",
      "memory usage: 455.9 MB\n"
     ]
    }
   ],
   "source": [
    "#Merge les quatres base de textes!\n",
    "df_final_2 = pd.concat([df_FR, df_DE, df_EN, df_ES],axis= 0,sort=False)\n",
    "df_final_2.reset_index(drop=True, inplace=True)\n",
    "df_final_2.info()"
   ]
  },
  {
   "cell_type": "code",
   "execution_count": 12,
   "metadata": {},
   "outputs": [
    {
     "data": {
      "text/html": [
       "<div>\n",
       "<style scoped>\n",
       "    .dataframe tbody tr th:only-of-type {\n",
       "        vertical-align: middle;\n",
       "    }\n",
       "\n",
       "    .dataframe tbody tr th {\n",
       "        vertical-align: top;\n",
       "    }\n",
       "\n",
       "    .dataframe thead th {\n",
       "        text-align: right;\n",
       "    }\n",
       "</style>\n",
       "<table border=\"1\" class=\"dataframe\">\n",
       "  <thead>\n",
       "    <tr style=\"text-align: right;\">\n",
       "      <th></th>\n",
       "      <th>0</th>\n",
       "      <th>1</th>\n",
       "      <th>2</th>\n",
       "      <th>3</th>\n",
       "      <th>4</th>\n",
       "      <th>5</th>\n",
       "      <th>6</th>\n",
       "      <th>7</th>\n",
       "      <th>8</th>\n",
       "      <th>9</th>\n",
       "      <th>...</th>\n",
       "      <th>693</th>\n",
       "      <th>694</th>\n",
       "      <th>695</th>\n",
       "      <th>696</th>\n",
       "      <th>697</th>\n",
       "      <th>698</th>\n",
       "      <th>699</th>\n",
       "      <th>700</th>\n",
       "      <th>701</th>\n",
       "      <th>y_2</th>\n",
       "    </tr>\n",
       "  </thead>\n",
       "  <tbody>\n",
       "    <tr>\n",
       "      <th>51095</th>\n",
       "      <td>6</td>\n",
       "      <td>1</td>\n",
       "      <td>3</td>\n",
       "      <td>7</td>\n",
       "      <td>20</td>\n",
       "      <td>0</td>\n",
       "      <td>4</td>\n",
       "      <td>7</td>\n",
       "      <td>5</td>\n",
       "      <td>2</td>\n",
       "      <td>...</td>\n",
       "      <td>0</td>\n",
       "      <td>0</td>\n",
       "      <td>0</td>\n",
       "      <td>0</td>\n",
       "      <td>0</td>\n",
       "      <td>0</td>\n",
       "      <td>0</td>\n",
       "      <td>0</td>\n",
       "      <td>0</td>\n",
       "      <td>2</td>\n",
       "    </tr>\n",
       "    <tr>\n",
       "      <th>162114</th>\n",
       "      <td>13</td>\n",
       "      <td>0</td>\n",
       "      <td>6</td>\n",
       "      <td>3</td>\n",
       "      <td>18</td>\n",
       "      <td>0</td>\n",
       "      <td>0</td>\n",
       "      <td>0</td>\n",
       "      <td>5</td>\n",
       "      <td>1</td>\n",
       "      <td>...</td>\n",
       "      <td>0</td>\n",
       "      <td>0</td>\n",
       "      <td>0</td>\n",
       "      <td>0</td>\n",
       "      <td>0</td>\n",
       "      <td>0</td>\n",
       "      <td>0</td>\n",
       "      <td>0</td>\n",
       "      <td>0</td>\n",
       "      <td>4</td>\n",
       "    </tr>\n",
       "    <tr>\n",
       "      <th>120065</th>\n",
       "      <td>7</td>\n",
       "      <td>2</td>\n",
       "      <td>4</td>\n",
       "      <td>4</td>\n",
       "      <td>15</td>\n",
       "      <td>5</td>\n",
       "      <td>1</td>\n",
       "      <td>2</td>\n",
       "      <td>7</td>\n",
       "      <td>0</td>\n",
       "      <td>...</td>\n",
       "      <td>0</td>\n",
       "      <td>0</td>\n",
       "      <td>0</td>\n",
       "      <td>0</td>\n",
       "      <td>0</td>\n",
       "      <td>0</td>\n",
       "      <td>0</td>\n",
       "      <td>0</td>\n",
       "      <td>0</td>\n",
       "      <td>3</td>\n",
       "    </tr>\n",
       "    <tr>\n",
       "      <th>119834</th>\n",
       "      <td>14</td>\n",
       "      <td>2</td>\n",
       "      <td>2</td>\n",
       "      <td>9</td>\n",
       "      <td>8</td>\n",
       "      <td>1</td>\n",
       "      <td>0</td>\n",
       "      <td>5</td>\n",
       "      <td>7</td>\n",
       "      <td>0</td>\n",
       "      <td>...</td>\n",
       "      <td>0</td>\n",
       "      <td>0</td>\n",
       "      <td>0</td>\n",
       "      <td>0</td>\n",
       "      <td>0</td>\n",
       "      <td>0</td>\n",
       "      <td>0</td>\n",
       "      <td>0</td>\n",
       "      <td>0</td>\n",
       "      <td>3</td>\n",
       "    </tr>\n",
       "    <tr>\n",
       "      <th>1325</th>\n",
       "      <td>10</td>\n",
       "      <td>1</td>\n",
       "      <td>4</td>\n",
       "      <td>5</td>\n",
       "      <td>26</td>\n",
       "      <td>0</td>\n",
       "      <td>1</td>\n",
       "      <td>0</td>\n",
       "      <td>3</td>\n",
       "      <td>1</td>\n",
       "      <td>...</td>\n",
       "      <td>0</td>\n",
       "      <td>0</td>\n",
       "      <td>0</td>\n",
       "      <td>0</td>\n",
       "      <td>0</td>\n",
       "      <td>0</td>\n",
       "      <td>0</td>\n",
       "      <td>0</td>\n",
       "      <td>0</td>\n",
       "      <td>1</td>\n",
       "    </tr>\n",
       "  </tbody>\n",
       "</table>\n",
       "<p>5 rows × 703 columns</p>\n",
       "</div>"
      ],
      "text/plain": [
       "         0  1  2  3   4  5  6  7  8  9  ...  693  694  695  696  697  698  \\\n",
       "51095    6  1  3  7  20  0  4  7  5  2  ...    0    0    0    0    0    0   \n",
       "162114  13  0  6  3  18  0  0  0  5  1  ...    0    0    0    0    0    0   \n",
       "120065   7  2  4  4  15  5  1  2  7  0  ...    0    0    0    0    0    0   \n",
       "119834  14  2  2  9   8  1  0  5  7  0  ...    0    0    0    0    0    0   \n",
       "1325    10  1  4  5  26  0  1  0  3  1  ...    0    0    0    0    0    0   \n",
       "\n",
       "        699  700  701  y_2  \n",
       "51095     0    0    0    2  \n",
       "162114    0    0    0    4  \n",
       "120065    0    0    0    3  \n",
       "119834    0    0    0    3  \n",
       "1325      0    0    0    1  \n",
       "\n",
       "[5 rows x 703 columns]"
      ]
     },
     "execution_count": 12,
     "metadata": {},
     "output_type": "execute_result"
    }
   ],
   "source": [
    "df_final_2 = df_final_2.sample(frac = 0.7)\n",
    "df_final_2.head(5)"
   ]
  },
  {
   "cell_type": "code",
   "execution_count": 13,
   "metadata": {},
   "outputs": [],
   "source": [
    "features_2 = df_final_2.iloc[:, 0:702]\n",
    "features_2.reset_index(drop= True, inplace=True)"
   ]
  },
  {
   "cell_type": "code",
   "execution_count": 14,
   "metadata": {},
   "outputs": [],
   "source": [
    "target_2 = df_final_2['y_2']\n",
    "target_2.reset_index(drop=True, inplace=True)"
   ]
  },
  {
   "cell_type": "code",
   "execution_count": 15,
   "metadata": {},
   "outputs": [],
   "source": [
    "# Créer les base train et test avec un taux de 30%\n",
    "from sklearn.model_selection import train_test_split\n",
    "# créer un nouveau train, test avec un taux de 30% \n",
    "X_train_2, X_test_2, y_train_2, y_test_2 = train_test_split(features_2, target_2,test_size = .30, random_state = 0)"
   ]
  },
  {
   "cell_type": "markdown",
   "metadata": {},
   "source": [
    "## Méthode One vs All"
   ]
  },
  {
   "cell_type": "markdown",
   "metadata": {},
   "source": [
    "One vs Rest connue sous le nom de one-vs-all, cette stratégie consiste à ajuster un classificateur par classe. \n",
    "Pour chaque classificateur, la classe est ajustée par rapport à toutes les autres classes. En plus de son efficacité de calcul (seuls les classificateurs n_classes sont nécessaires), un avantage de cette approche est son interprétabilité. Puisque chaque classe est représentée par un et un classificateur seulement, il est possible d'acquérir des connaissances sur la classe en inspectant son classificateur correspondant. C'est la stratégie la plus couramment utilisée pour la classification multiclasse et c'est un choix par défaut juste.\n",
    "\n",
    "\n",
    "La bibliothèque scikit-learn fournit également une classe OneVsRestClassifier qui permet à la stratégie one-vs-rest d'être utilisée avec n'importe quel classificateur. Cette classe peut être utilisée avec un classificateur binaire comme SVM ou Logistic Regression pour la classification multi-classes, ou même d'autres classificateurs qui prennent en charge nativement la classification multi-classes.\n"
   ]
  },
  {
   "cell_type": "code",
   "execution_count": 18,
   "metadata": {},
   "outputs": [],
   "source": [
    "import matplotlib.pyplot as plt\n",
    "import numpy as np\n",
    "from sklearn.datasets import make_blobs\n",
    "from sklearn.multiclass import OneVsOneClassifier\n",
    "from sklearn.svm import LinearSVC\n",
    "from sklearn.model_selection import train_test_split\n",
    "from sklearn.metrics import plot_confusion_matrix\n",
    "from mlxtend.plotting import plot_decision_regions\n",
    "from sklearn.svm import SVC\n",
    "from sklearn.linear_model import Ridge\n",
    "from sklearn.linear_model import Lasso\n",
    "from sklearn import svm"
   ]
  },
  {
   "cell_type": "code",
   "execution_count": 19,
   "metadata": {},
   "outputs": [],
   "source": [
    "#Classifcation avec one vs all: (on lancer dans une seul fois 4 méthodes utilisée dans les questions au dessus de la sujet)\n",
    "import time\n",
    "start_time = time.time()\n",
    "from sklearn.multiclass import OneVsRestClassifier\n",
    "\n",
    "\n",
    "classifiers_ovr = [OneVsRestClassifier(Ridge(alpha=10)), \n",
    "               OneVsRestClassifier(Lasso(alpha=0.01)),\n",
    "               OneVsRestClassifier(SVC(C = 0.01, kernel = 'poly', gamma=0.001)), \n",
    "               OneVsRestClassifier(SVC(C = 0.1, kernel = 'linear', gamma=0.1))]\n",
    "for cls in classifiers_ovr:\n",
    "    cls.fit(X_train_2, y_train_2)"
   ]
  },
  {
   "cell_type": "code",
   "execution_count": 32,
   "metadata": {},
   "outputs": [
    {
     "data": {
      "image/png": "[encoded data removed]",
      "text/plain": [
       "<Figure size 1080x720 with 8 Axes>"
      ]
     },
     "metadata": {
      "needs_background": "light"
     },
     "output_type": "display_data"
    }
   ],
   "source": [
    "fig, axes = plt.subplots(nrows=2, ncols=2, figsize=(15,10))\n",
    "\n",
    "for cls, ax in zip(classifiers_ovr, axes.flatten()):\n",
    "    plot_confusion_matrix(cls, \n",
    "                          X_test_2, \n",
    "                          y_test_2, \n",
    "                          ax=ax, \n",
    "                          cmap='Greens')\n",
    "axes[0,0].set_title(\"Regression Ridge\")\n",
    "axes[0,1].set_title(\"Regression Lasso\")\n",
    "axes[1,0].set_title(\"SVM avec noyau polynomial\")\n",
    "axes[1,1].set_title(\"SVM sans noyau\")\n",
    "plt.tight_layout()  \n",
    "plt.show()"
   ]
  },
  {
   "cell_type": "markdown",
   "metadata": {},
   "source": [
    "On trouve que pour la méthode classification OnevsAll, les résultats de 4 modèles utiliser sont pres que parfait. Parmi ces quartres modèles, je trouve que le modèles SVM sans noyau (kernel = lineaire) est le meilleur modèle par rapport les autres modèles. Tous les langues sont facile à classifier! "
   ]
  },
  {
   "cell_type": "markdown",
   "metadata": {},
   "source": [
    "### Méthode One vs One\n",
    "\n",
    "OneVsOneClassifier construit un classificateur par paire de classes. Au moment de la prédiction, la classe qui a reçu le plus de votes est sélectionnée. En cas d'égalité (entre deux classes avec un nombre égal de voix), il sélectionne la classe avec la confiance de classification agrégée la plus élevée en additionnant les niveaux de confiance de classification par paire calculés par les classificateurs binaires sous-jacents. Puisqu'elle nécessite d'ajuster n_classes * (n_classes - 1) / 2 classificateurs, cette méthode est généralement plus lente que one-vs-the-rest, en raison de sa complexité O (n_classes ^ 2). La fonction de décision est le résultat d'une transformation monotone de la classification un contre un.\n",
    "\n"
   ]
  },
  {
   "cell_type": "code",
   "execution_count": 58,
   "metadata": {},
   "outputs": [],
   "source": [
    "#Construire le modèle classifcation One vs One!"
   ]
  },
  {
   "cell_type": "code",
   "execution_count": 30,
   "metadata": {},
   "outputs": [],
   "source": [
    "classifiers = [OneVsOneClassifier(Ridge(alpha=10)), \n",
    "               OneVsOneClassifier(Lasso(alpha=0.01)),\n",
    "               OneVsOneClassifier(SVC(C = 0.01, kernel = 'poly', gamma=0.001)), \n",
    "               OneVsOneClassifier(SVC(C = 0.1, kernel = 'linear', gamma=0.1))]\n",
    "for cls in classifiers:\n",
    "    cls.fit(X_train_2, y_train_2)\n",
    "    "
   ]
  },
  {
   "cell_type": "code",
   "execution_count": 31,
   "metadata": {},
   "outputs": [
    {
     "data": {
      "image/png": "[encoded data removed]",
      "text/plain": [
       "<Figure size 1080x720 with 8 Axes>"
      ]
     },
     "metadata": {
      "needs_background": "light"
     },
     "output_type": "display_data"
    }
   ],
   "source": [
    "fig, axes = plt.subplots(nrows=2, ncols=2, figsize=(15,10))\n",
    "\n",
    "for cls, ax in zip(classifiers, axes.flatten()):\n",
    "    plot_confusion_matrix(cls, \n",
    "                          X_test_2, \n",
    "                          y_test_2, \n",
    "                          ax=ax, \n",
    "                          cmap='Reds')\n",
    "axes[0,0].set_title(\"Regression Ridge\")\n",
    "axes[0,1].set_title(\"Regression Lasso\")\n",
    "axes[1,0].set_title(\"SVM avec noyau polynomial\")\n",
    "axes[1,1].set_title(\"SVM sans noyau\")\n",
    "plt.tight_layout()  \n",
    "plt.show()"
   ]
  },
  {
   "cell_type": "markdown",
   "metadata": {},
   "source": [
    "On trouve que pour la méthode one vs one, les modèles SVM donne les résultats plus performance par rapport les modèles Ridge et Lasso. \n",
    "Par ailleurs, dans les quatres langues je trouve que la langue Espagne est plus facile à classer, et la langue Francais est plus diffcile pour détecter (en comparant One vs One)!"
   ]
  }
 ],
 "metadata": {
  "kernelspec": {
   "display_name": "Python 3",
   "language": "python",
   "name": "python3"
  },
  "language_info": {
   "codemirror_mode": {
    "name": "ipython",
    "version": 3
   },
   "file_extension": ".py",
   "mimetype": "text/x-python",
   "name": "python",
   "nbconvert_exporter": "python",
   "pygments_lexer": "ipython3",
   "version": "3.8.5"
  }
 },
 "nbformat": 4,
 "nbformat_minor": 2
}
